{
 "cells": [
  {
   "cell_type": "markdown",
   "metadata": {},
   "source": [
    "# load hugging face model"
   ]
  },
  {
   "cell_type": "code",
   "execution_count": 146,
   "metadata": {
    "ExecuteTime": {
     "end_time": "2021-09-11T16:24:43.512483Z",
     "start_time": "2021-09-11T16:24:43.506174Z"
    }
   },
   "outputs": [],
   "source": [
    "import transformers\n",
    "from transformers import (\n",
    "    AutoConfig,\n",
    "    AutoModelForCausalLM,\n",
    "    AutoTokenizer,\n",
    "    Trainer,\n",
    "    top_k_top_p_filtering)"
   ]
  },
  {
   "cell_type": "code",
   "execution_count": 2,
   "metadata": {
    "ExecuteTime": {
     "end_time": "2021-09-09T14:27:29.158419Z",
     "start_time": "2021-09-09T14:27:29.149258Z"
    }
   },
   "outputs": [],
   "source": [
    "model_name = 'distilgpt2'"
   ]
  },
  {
   "cell_type": "code",
   "execution_count": 3,
   "metadata": {
    "ExecuteTime": {
     "end_time": "2021-09-09T14:27:29.813599Z",
     "start_time": "2021-09-09T14:27:29.172465Z"
    }
   },
   "outputs": [],
   "source": [
    "gn_cfg = AutoConfig.from_pretrained(model_name)"
   ]
  },
  {
   "cell_type": "code",
   "execution_count": 4,
   "metadata": {
    "ExecuteTime": {
     "end_time": "2021-09-09T14:27:29.831968Z",
     "start_time": "2021-09-09T14:27:29.816482Z"
    }
   },
   "outputs": [
    {
     "data": {
      "text/plain": [
       "GPT2Config {\n",
       "  \"_num_labels\": 1,\n",
       "  \"activation_function\": \"gelu_new\",\n",
       "  \"architectures\": [\n",
       "    \"GPT2LMHeadModel\"\n",
       "  ],\n",
       "  \"attn_pdrop\": 0.1,\n",
       "  \"bos_token_id\": 50256,\n",
       "  \"embd_pdrop\": 0.1,\n",
       "  \"eos_token_id\": 50256,\n",
       "  \"gradient_checkpointing\": false,\n",
       "  \"id2label\": {\n",
       "    \"0\": \"LABEL_0\"\n",
       "  },\n",
       "  \"initializer_range\": 0.02,\n",
       "  \"label2id\": {\n",
       "    \"LABEL_0\": 0\n",
       "  },\n",
       "  \"layer_norm_epsilon\": 1e-05,\n",
       "  \"model_type\": \"gpt2\",\n",
       "  \"n_ctx\": 1024,\n",
       "  \"n_embd\": 768,\n",
       "  \"n_head\": 12,\n",
       "  \"n_inner\": null,\n",
       "  \"n_layer\": 6,\n",
       "  \"n_positions\": 1024,\n",
       "  \"resid_pdrop\": 0.1,\n",
       "  \"scale_attn_weights\": true,\n",
       "  \"summary_activation\": null,\n",
       "  \"summary_first_dropout\": 0.1,\n",
       "  \"summary_proj_to_labels\": true,\n",
       "  \"summary_type\": \"cls_index\",\n",
       "  \"summary_use_proj\": true,\n",
       "  \"task_specific_params\": {\n",
       "    \"text-generation\": {\n",
       "      \"do_sample\": true,\n",
       "      \"max_length\": 50\n",
       "    }\n",
       "  },\n",
       "  \"transformers_version\": \"4.10.0\",\n",
       "  \"use_cache\": true,\n",
       "  \"vocab_size\": 50257\n",
       "}"
      ]
     },
     "execution_count": 4,
     "metadata": {},
     "output_type": "execute_result"
    }
   ],
   "source": [
    "gn_cfg"
   ]
  },
  {
   "cell_type": "code",
   "execution_count": 5,
   "metadata": {
    "ExecuteTime": {
     "end_time": "2021-09-09T14:27:34.396985Z",
     "start_time": "2021-09-09T14:27:29.834728Z"
    }
   },
   "outputs": [],
   "source": [
    "tok = AutoTokenizer.from_pretrained(model_name)"
   ]
  },
  {
   "cell_type": "code",
   "execution_count": 6,
   "metadata": {
    "ExecuteTime": {
     "end_time": "2021-09-09T14:27:34.410156Z",
     "start_time": "2021-09-09T14:27:34.399095Z"
    }
   },
   "outputs": [
    {
     "data": {
      "text/plain": [
       "PreTrainedTokenizerFast(name_or_path='distilgpt2', vocab_size=50257, model_max_len=1024, is_fast=True, padding_side='right', special_tokens={'bos_token': '<|endoftext|>', 'eos_token': '<|endoftext|>', 'unk_token': '<|endoftext|>'})"
      ]
     },
     "execution_count": 6,
     "metadata": {},
     "output_type": "execute_result"
    }
   ],
   "source": [
    "tok"
   ]
  },
  {
   "cell_type": "code",
   "execution_count": 7,
   "metadata": {
    "ExecuteTime": {
     "end_time": "2021-09-09T14:27:34.426547Z",
     "start_time": "2021-09-09T14:27:34.413554Z"
    }
   },
   "outputs": [],
   "source": [
    "tok.pad_token = tok.eos_token"
   ]
  },
  {
   "cell_type": "code",
   "execution_count": 8,
   "metadata": {
    "ExecuteTime": {
     "end_time": "2021-09-09T14:27:38.717417Z",
     "start_time": "2021-09-09T14:27:34.429797Z"
    }
   },
   "outputs": [],
   "source": [
    "model =  AutoModelForCausalLM.from_pretrained(model_name)"
   ]
  },
  {
   "cell_type": "markdown",
   "metadata": {},
   "source": [
    "# Load finetuning data"
   ]
  },
  {
   "cell_type": "code",
   "execution_count": 9,
   "metadata": {
    "ExecuteTime": {
     "end_time": "2021-09-09T14:27:38.737132Z",
     "start_time": "2021-09-09T14:27:38.724085Z"
    }
   },
   "outputs": [],
   "source": [
    "import pandas as pd"
   ]
  },
  {
   "cell_type": "code",
   "execution_count": 50,
   "metadata": {
    "ExecuteTime": {
     "end_time": "2021-09-10T14:29:15.604998Z",
     "start_time": "2021-09-10T14:29:14.951533Z"
    }
   },
   "outputs": [],
   "source": [
    "import datasets"
   ]
  },
  {
   "cell_type": "code",
   "execution_count": 61,
   "metadata": {
    "ExecuteTime": {
     "end_time": "2021-09-10T14:32:14.178571Z",
     "start_time": "2021-09-10T14:32:13.401313Z"
    }
   },
   "outputs": [
    {
     "name": "stderr",
     "output_type": "stream",
     "text": [
      "Using custom data configuration default-0e4d2a8ce410dd40\n",
      "Reusing dataset csv (/Users/sadhbh/.cache/huggingface/datasets/csv/default-0e4d2a8ce410dd40/0.0.0/9144e0a4e8435090117cea53e6c7537173ef2304525df4a077c435d8ee7828ff)\n"
     ]
    }
   ],
   "source": [
    "hg_df = datasets.load_dataset('csv', data_files=\"../data/book_dscrptions.csv\")"
   ]
  },
  {
   "cell_type": "code",
   "execution_count": 75,
   "metadata": {
    "ExecuteTime": {
     "end_time": "2021-09-10T14:37:17.942900Z",
     "start_time": "2021-09-10T14:37:17.934551Z"
    }
   },
   "outputs": [],
   "source": [
    "hg_df = hg_df.rename_column('0', 'text')"
   ]
  },
  {
   "cell_type": "code",
   "execution_count": 77,
   "metadata": {
    "ExecuteTime": {
     "end_time": "2021-09-10T14:37:22.998007Z",
     "start_time": "2021-09-10T14:37:22.956511Z"
    }
   },
   "outputs": [
    {
     "data": {
      "text/plain": [
       "'Poor People. William T. Vollmann. Examines and analyzes the diversity of poverty, using a series of interviews with impoverished people from around the world, who draw on their belief systems to account for their financial disadvantages.'"
      ]
     },
     "execution_count": 77,
     "metadata": {},
     "output_type": "execute_result"
    }
   ],
   "source": [
    "hg_df['train']['text'][-1]"
   ]
  },
  {
   "cell_type": "markdown",
   "metadata": {},
   "source": [
    "# Tokenize data"
   ]
  },
  {
   "cell_type": "code",
   "execution_count": 14,
   "metadata": {
    "ExecuteTime": {
     "end_time": "2021-09-09T14:27:39.025680Z",
     "start_time": "2021-09-09T14:27:39.018879Z"
    }
   },
   "outputs": [],
   "source": [
    "import itertools"
   ]
  },
  {
   "cell_type": "markdown",
   "metadata": {},
   "source": [
    "## add eos to data"
   ]
  },
  {
   "cell_type": "code",
   "execution_count": 80,
   "metadata": {
    "ExecuteTime": {
     "end_time": "2021-09-10T14:38:46.899502Z",
     "start_time": "2021-09-10T14:38:46.895657Z"
    }
   },
   "outputs": [],
   "source": [
    "def add_eos(sample, eos_token=tok.eos_token):\n",
    "    return {'text': \"\".join([sample['text'], eos_token])}"
   ]
  },
  {
   "cell_type": "code",
   "execution_count": 83,
   "metadata": {
    "ExecuteTime": {
     "end_time": "2021-09-10T14:39:02.482551Z",
     "start_time": "2021-09-10T14:39:02.473496Z"
    }
   },
   "outputs": [
    {
     "name": "stderr",
     "output_type": "stream",
     "text": [
      "Loading cached processed dataset at /Users/sadhbh/.cache/huggingface/datasets/csv/default-0e4d2a8ce410dd40/0.0.0/9144e0a4e8435090117cea53e6c7537173ef2304525df4a077c435d8ee7828ff/cache-523d841baf0d1c0d.arrow\n"
     ]
    }
   ],
   "source": [
    "hg_df['train'] = hg_df['train'].map(add_eos)"
   ]
  },
  {
   "cell_type": "code",
   "execution_count": 84,
   "metadata": {
    "ExecuteTime": {
     "end_time": "2021-09-10T14:39:03.758055Z",
     "start_time": "2021-09-10T14:39:03.736086Z"
    }
   },
   "outputs": [
    {
     "data": {
      "text/plain": [
       "'Poor People. William T. Vollmann. Examines and analyzes the diversity of poverty, using a series of interviews with impoverished people from around the world, who draw on their belief systems to account for their financial disadvantages.<|endoftext|>'"
      ]
     },
     "execution_count": 84,
     "metadata": {},
     "output_type": "execute_result"
    }
   ],
   "source": [
    "hg_df['train']['text'][-1]"
   ]
  },
  {
   "cell_type": "markdown",
   "metadata": {},
   "source": [
    "## tokenize texts"
   ]
  },
  {
   "cell_type": "code",
   "execution_count": 90,
   "metadata": {
    "ExecuteTime": {
     "end_time": "2021-09-10T14:40:22.904013Z",
     "start_time": "2021-09-10T14:40:22.900509Z"
    }
   },
   "outputs": [],
   "source": [
    "def tokenize_function(text):\n",
    "    return tok(text['text'])"
   ]
  },
  {
   "cell_type": "code",
   "execution_count": 91,
   "metadata": {
    "ExecuteTime": {
     "end_time": "2021-09-10T14:40:31.082616Z",
     "start_time": "2021-09-10T14:40:24.220867Z"
    }
   },
   "outputs": [
    {
     "data": {
      "application/vnd.jupyter.widget-view+json": {
       "model_id": "160bb784a46f43bcbb100523409093c5",
       "version_major": 2,
       "version_minor": 0
      },
      "text/plain": [
       "HBox(children=(FloatProgress(value=0.0, max=7779.0), HTML(value='')))"
      ]
     },
     "metadata": {},
     "output_type": "display_data"
    },
    {
     "name": "stdout",
     "output_type": "stream",
     "text": [
      "\n"
     ]
    }
   ],
   "source": [
    "tokenized = hg_df.map(tokenize_function)"
   ]
  },
  {
   "cell_type": "code",
   "execution_count": 100,
   "metadata": {
    "ExecuteTime": {
     "end_time": "2021-09-10T14:42:34.121952Z",
     "start_time": "2021-09-10T14:42:34.115996Z"
    }
   },
   "outputs": [],
   "source": [
    "tokenized = tokenized['train'].remove_columns('text')"
   ]
  },
  {
   "cell_type": "markdown",
   "metadata": {},
   "source": [
    "## concat texts and batch"
   ]
  },
  {
   "cell_type": "code",
   "execution_count": 93,
   "metadata": {
    "ExecuteTime": {
     "end_time": "2021-09-10T14:41:07.992673Z",
     "start_time": "2021-09-10T14:41:07.985394Z"
    }
   },
   "outputs": [
    {
     "data": {
      "text/plain": [
       "50256"
      ]
     },
     "execution_count": 93,
     "metadata": {},
     "output_type": "execute_result"
    }
   ],
   "source": [
    "tok.pad_token_id"
   ]
  },
  {
   "cell_type": "code",
   "execution_count": 102,
   "metadata": {
    "ExecuteTime": {
     "end_time": "2021-09-10T14:42:54.730860Z",
     "start_time": "2021-09-10T14:42:54.724856Z"
    }
   },
   "outputs": [],
   "source": [
    "block_size = 1024\n",
    "def group_texts(examples):\n",
    "    # Concatenate all texts.\n",
    "    concatenated_examples = {k: sum(examples[k], []) for k in examples.keys()}\n",
    "    total_length = len(concatenated_examples[list(examples.keys())[0]])\n",
    "    # We drop the small remainder, we could add padding if the model supported it instead of this drop, you can\n",
    "        # customize this part to your needs.\n",
    "    total_length = (total_length // block_size) * block_size\n",
    "    # Split by chunks of max_len.\n",
    "    result = {\n",
    "        k: [t[i : i + block_size] for i in range(0, total_length, block_size)]\n",
    "        for k, t in concatenated_examples.items()\n",
    "    }\n",
    "    result[\"labels\"] = result[\"input_ids\"].copy()\n",
    "    return result"
   ]
  },
  {
   "cell_type": "code",
   "execution_count": 103,
   "metadata": {
    "ExecuteTime": {
     "end_time": "2021-09-10T14:43:01.007561Z",
     "start_time": "2021-09-10T14:42:54.914289Z"
    }
   },
   "outputs": [
    {
     "name": "stdout",
     "output_type": "stream",
     "text": [
      "   "
     ]
    },
    {
     "data": {
      "application/vnd.jupyter.widget-view+json": {
       "model_id": "ed792c8bb8304246bce1e49dfb11095d",
       "version_major": 2,
       "version_minor": 0
      },
      "text/plain": [
       "HBox(children=(FloatProgress(value=0.0, description=' #1', max=2.0, style=ProgressStyle(description_width='ini…"
      ]
     },
     "metadata": {},
     "output_type": "display_data"
    },
    {
     "name": "stdout",
     "output_type": "stream",
     "text": [
      " "
     ]
    },
    {
     "data": {
      "application/vnd.jupyter.widget-view+json": {
       "model_id": "56689a31c14747568397a725b86d0b7b",
       "version_major": 2,
       "version_minor": 0
      },
      "text/plain": [
       "HBox(children=(FloatProgress(value=0.0, description=' #2', max=2.0, style=ProgressStyle(description_width='ini…"
      ]
     },
     "metadata": {},
     "output_type": "display_data"
    },
    {
     "data": {
      "application/vnd.jupyter.widget-view+json": {
       "model_id": "ebee8a2965fb4c41a3be511f05f90829",
       "version_major": 2,
       "version_minor": 0
      },
      "text/plain": [
       "HBox(children=(FloatProgress(value=0.0, description=' #0', max=2.0, style=ProgressStyle(description_width='ini…"
      ]
     },
     "metadata": {},
     "output_type": "display_data"
    },
    {
     "data": {
      "application/vnd.jupyter.widget-view+json": {
       "model_id": "3c14f8f243d049dab42cba7dee5baf55",
       "version_major": 2,
       "version_minor": 0
      },
      "text/plain": [
       "HBox(children=(FloatProgress(value=0.0, description=' #3', max=2.0, style=ProgressStyle(description_width='ini…"
      ]
     },
     "metadata": {},
     "output_type": "display_data"
    },
    {
     "name": "stdout",
     "output_type": "stream",
     "text": [
      "\n",
      "\n",
      "\n",
      "\n"
     ]
    }
   ],
   "source": [
    "lm_input = tokenized.map(\n",
    "    group_texts,\n",
    "    batched=True,\n",
    "    batch_size=1000,\n",
    "    num_proc=4,\n",
    ")"
   ]
  },
  {
   "cell_type": "code",
   "execution_count": 110,
   "metadata": {
    "ExecuteTime": {
     "end_time": "2021-09-10T14:44:44.031862Z",
     "start_time": "2021-09-10T14:44:44.009481Z"
    }
   },
   "outputs": [
    {
     "data": {
      "text/plain": [
       "' to America after two decades of living abroad and his disconcerting reunion with his homeland as he discusses motels, tax-return instructions, and hardware stores.<|endoftext|>The Lost Continent: Travels in Small Town America. Bill Bryson. An unsparing and hilarious account of one man\\'s rediscovery of America and his search for the perfect small town.<|endoftext|>Neither Here nor There: Travels in Europe. Bill Bryson. Like many of his generation, Bill Bryson backpacked across Europe in the early seventies -- in search of enlightenment, beer, and women. Twenty years later he decided to retrace the journey he undertook in the halcyon days of his youth. The result is Neither Here Nor There, an affectionate and riotously funny pilgrimage from the frozen wastes of Scandinavia to the chaotic tumult of Istanbul, with stops along the way in Europe\\'s most diverting and historic locales. Like many of his generation, Bill Bryson backpacked across Europe in the early seventies--in search of enlightenment, beer, and women. Twenty years later he decided to retrace the journey he undertook in the halcyon days of his youth. The result is Neither Here Nor There, an affectionate and riotously funny pilgrimage from the frozen wastes of Scandinavia to the chaotic tumult of Istanbul, with stops along the way in Europe\\'s most diverting and historic locales.<|endoftext|>Notes from a Small Island. Bill Bryson. \"Suddenly, in the space of a moment, I realized what it was that I loved about Britain-which is to say, all of it.\" After nearly two decades spent on British soil, Bill Bryson-bestsellingauthor of The Mother Tongue and Made in America-decided to returnto the United States. (\"I had recently read,\" Bryson writes, \"that 3.7 million Americans believed that they had been abducted by aliens at one time or another,so it was clear that my people needed me.\") But before departing, he set out ona grand farewell tour of the green and kindly island that had so long been his home. Veering from the ludicrous to the endearing and back again, Notes from a Small Island is a delightfully irreverent jaunt around the unparalleled floating nation that has produced zebra crossings, Shakespeare, Twiggie Winkie\\'s Farm, and places with names like Farleigh Wallop and Titsey. The result is an uproarious social commentary that conveys the true glory of Britain, from the satiric pen of an unapologetic Anglophile. \"Suddenly, in the space of a moment, I realized what it was that I loved about Britain-which is to say, all of it.\" After nearly two decades spent on British soil, Bill Bryson-bestselling author of,i>The Mother Tongue and Made in America-decided to return to the United States. (\"I had recently read,\" Bryson writes, \"that 3.7 million Americans believed that they had been abducted by aliens at one time or another, so it was clear that my people needed me.\") But before departing, he set out on a grand farewell tour of the green and kindly island that had so long been his home. Veering from the ludicrous to the endearing and back again, Notes from a Small Island is a delightfully irreverent jaunt around the unparalleled floating nation that has produced zebra crossings, Shakespeare, Twiggie Winkie\\'s Farm, and places with names like Farleigh Wallop and Titsey. The result is an uproarious social commentary that conveys the true glory of Britain, from the satiric pen of an unapologetic Anglophile.<|endoftext|>The Mother Tongue: English and How It Got That Way. Bill Bryson. With dazzling wit and astonishing insight, Bill Bryson--the acclaimed author of The Lost Continent--brilliantly explores the remarkable history, eccentricities, resilience and sheer fun of the English language. From the first descent of the larynx into the throat (why you can talk but your dog can\\'t), to the fine lost art of swearing, Bryson tells the fascinating, often uproarious story of an inadequate, second-rate tongue of peasants that developed into one of the world\\'s largest growth industries.<|endoftext|>J.R.R. Tolkien 4-Book Boxed Set: The Hobbit and The Lord of the Rings. J.R.R. Tolkien. Presents a box set including the complete \"Lord of the Rings\" trilogy, as well as its prequel, \"The Hobbit.\"<|endoftext|>The Lord of the Rings (The Lord of the Rings  #1-3). J.R.R. Tolkien. An epic depicting the Great War of the Ring, a struggle between good and evil in Middle-Earth, in which the tiny Hobbits play a key role.<|endoftext|>The Lord of the Rings (The Lord of the Rings  #1-3). J.R.R. Tolkien/Alan  Lee. An epic detailing the Great War of the Ring, a struggle'"
      ]
     },
     "execution_count": 110,
     "metadata": {},
     "output_type": "execute_result"
    }
   ],
   "source": [
    "\"\".join([tok.decode(idi) for idi in lm_input[2]['input_ids']])"
   ]
  },
  {
   "cell_type": "markdown",
   "metadata": {
    "ExecuteTime": {
     "end_time": "2021-09-08T17:02:51.537040Z",
     "start_time": "2021-09-08T17:02:51.509301Z"
    }
   },
   "source": [
    "# Finetune model"
   ]
  },
  {
   "cell_type": "code",
   "execution_count": 111,
   "metadata": {
    "ExecuteTime": {
     "end_time": "2021-09-10T14:45:05.632787Z",
     "start_time": "2021-09-10T14:45:05.516292Z"
    }
   },
   "outputs": [
    {
     "name": "stderr",
     "output_type": "stream",
     "text": [
      "No `TrainingArguments` passed, using `output_dir=tmp_trainer`.\n",
      "PyTorch: setting up devices\n",
      "The default value for the training argument `--report_to` will change in v5 (from all installed integrations to none). In v5, you will need to use `--report_to all` to get the same behavior as now. You should start updating your code and make this info disappear :-).\n"
     ]
    }
   ],
   "source": [
    "trainer = Trainer(\n",
    "    model=model,\n",
    "    train_dataset=lm_input,\n",
    "    tokenizer=tok\n",
    ")"
   ]
  },
  {
   "cell_type": "code",
   "execution_count": 112,
   "metadata": {
    "ExecuteTime": {
     "end_time": "2021-09-11T05:02:39.742860Z",
     "start_time": "2021-09-10T14:45:09.576413Z"
    }
   },
   "outputs": [
    {
     "name": "stderr",
     "output_type": "stream",
     "text": [
      "***** Running training *****\n",
      "  Num examples = 780\n",
      "  Num Epochs = 3\n",
      "  Instantaneous batch size per device = 8\n",
      "  Total train batch size (w. parallel, distributed & accumulation) = 8\n",
      "  Gradient Accumulation steps = 1\n",
      "  Total optimization steps = 294\n"
     ]
    },
    {
     "data": {
      "text/html": [
       "\n",
       "    <div>\n",
       "      \n",
       "      <progress value='294' max='294' style='width:300px; height:20px; vertical-align: middle;'></progress>\n",
       "      [294/294 14:14:16, Epoch 3/3]\n",
       "    </div>\n",
       "    <table border=\"1\" class=\"dataframe\">\n",
       "  <thead>\n",
       "    <tr style=\"text-align: left;\">\n",
       "      <th>Step</th>\n",
       "      <th>Training Loss</th>\n",
       "    </tr>\n",
       "  </thead>\n",
       "  <tbody>\n",
       "  </tbody>\n",
       "</table><p>"
      ],
      "text/plain": [
       "<IPython.core.display.HTML object>"
      ]
     },
     "metadata": {},
     "output_type": "display_data"
    },
    {
     "name": "stderr",
     "output_type": "stream",
     "text": [
      "\n",
      "\n",
      "Training completed. Do not forget to share your model on huggingface.co/models =)\n",
      "\n",
      "\n"
     ]
    },
    {
     "data": {
      "text/plain": [
       "TrainOutput(global_step=294, training_loss=3.735368170705782, metrics={'train_runtime': 51449.2764, 'train_samples_per_second': 0.045, 'train_steps_per_second': 0.006, 'total_flos': 611434396385280.0, 'train_loss': 3.735368170705782, 'epoch': 3.0})"
      ]
     },
     "execution_count": 112,
     "metadata": {},
     "output_type": "execute_result"
    }
   ],
   "source": [
    "trainer.train()"
   ]
  },
  {
   "cell_type": "code",
   "execution_count": 114,
   "metadata": {
    "ExecuteTime": {
     "end_time": "2021-09-11T16:08:28.665184Z",
     "start_time": "2021-09-11T16:08:28.353739Z"
    }
   },
   "outputs": [
    {
     "name": "stdout",
     "output_type": "stream",
     "text": [
      "data_source.ipynb          \u001b[1m\u001b[36mtmp_trainer\u001b[m\u001b[m\r\n",
      "finetune_transformer.ipynb\r\n"
     ]
    }
   ],
   "source": [
    "!ls"
   ]
  },
  {
   "cell_type": "code",
   "execution_count": 117,
   "metadata": {
    "ExecuteTime": {
     "end_time": "2021-09-11T16:10:13.485422Z",
     "start_time": "2021-09-11T16:10:12.391933Z"
    }
   },
   "outputs": [
    {
     "name": "stderr",
     "output_type": "stream",
     "text": [
      "Configuration saved in finetuned_model/config.json\n",
      "Model weights saved in finetuned_model/pytorch_model.bin\n"
     ]
    }
   ],
   "source": [
    "model.save_pretrained(save_directory='finetuned_model')"
   ]
  },
  {
   "cell_type": "code",
   "execution_count": 213,
   "metadata": {
    "ExecuteTime": {
     "end_time": "2021-09-11T17:16:40.584649Z",
     "start_time": "2021-09-11T17:16:40.291992Z"
    }
   },
   "outputs": [
    {
     "name": "stderr",
     "output_type": "stream",
     "text": [
      "tokenizer config file saved in finetuned_model/tokenizer/tokenizer_config.json\n",
      "Special tokens file saved in finetuned_model/tokenizer/special_tokens_map.json\n"
     ]
    },
    {
     "data": {
      "text/plain": [
       "('finetuned_model/tokenizer/tokenizer_config.json',\n",
       " 'finetuned_model/tokenizer/special_tokens_map.json',\n",
       " 'finetuned_model/tokenizer/vocab.json',\n",
       " 'finetuned_model/tokenizer/merges.txt',\n",
       " 'finetuned_model/tokenizer/added_tokens.json',\n",
       " 'finetuned_model/tokenizer/tokenizer.json')"
      ]
     },
     "execution_count": 213,
     "metadata": {},
     "output_type": "execute_result"
    }
   ],
   "source": [
    "tok.save_pretrained(save_directory='finetuned_model/tokenizer')"
   ]
  },
  {
   "cell_type": "markdown",
   "metadata": {},
   "source": [
    "# generate output"
   ]
  },
  {
   "cell_type": "markdown",
   "metadata": {},
   "source": [
    "## token by token"
   ]
  },
  {
   "cell_type": "code",
   "execution_count": 160,
   "metadata": {
    "ExecuteTime": {
     "end_time": "2021-09-11T16:27:43.432597Z",
     "start_time": "2021-09-11T16:27:43.428094Z"
    }
   },
   "outputs": [],
   "source": [
    "from torch.nn import functional as F\n",
    "from torch import multinomial"
   ]
  },
  {
   "cell_type": "code",
   "execution_count": 195,
   "metadata": {
    "ExecuteTime": {
     "end_time": "2021-09-11T16:34:31.901082Z",
     "start_time": "2021-09-11T16:34:31.897292Z"
    }
   },
   "outputs": [],
   "source": [
    "test_input = tok(\"Brave New World.\", return_tensors='pt')"
   ]
  },
  {
   "cell_type": "code",
   "execution_count": 196,
   "metadata": {
    "ExecuteTime": {
     "end_time": "2021-09-11T16:34:33.024393Z",
     "start_time": "2021-09-11T16:34:33.019009Z"
    }
   },
   "outputs": [
    {
     "data": {
      "text/plain": [
       "{'input_ids': tensor([[39787,   968,  2159,    13]]), 'attention_mask': tensor([[1, 1, 1, 1]])}"
      ]
     },
     "execution_count": 196,
     "metadata": {},
     "output_type": "execute_result"
    }
   ],
   "source": [
    "test_input"
   ]
  },
  {
   "cell_type": "code",
   "execution_count": 172,
   "metadata": {
    "ExecuteTime": {
     "end_time": "2021-09-11T16:29:11.562215Z",
     "start_time": "2021-09-11T16:29:11.485018Z"
    }
   },
   "outputs": [],
   "source": [
    "output = model(test_input['input_ids'], attention_mask=test_input['attention_mask'])"
   ]
  },
  {
   "cell_type": "code",
   "execution_count": 173,
   "metadata": {
    "ExecuteTime": {
     "end_time": "2021-09-11T16:29:11.740164Z",
     "start_time": "2021-09-11T16:29:11.736694Z"
    }
   },
   "outputs": [],
   "source": [
    "last_state_logits = output['logits'][:, -1, :]"
   ]
  },
  {
   "cell_type": "code",
   "execution_count": 174,
   "metadata": {
    "ExecuteTime": {
     "end_time": "2021-09-11T16:29:11.988810Z",
     "start_time": "2021-09-11T16:29:11.979098Z"
    }
   },
   "outputs": [],
   "source": [
    "filtered_logits = top_k_top_p_filtering(last_state_logits, top_k=5, top_p=1.0)"
   ]
  },
  {
   "cell_type": "code",
   "execution_count": 175,
   "metadata": {
    "ExecuteTime": {
     "end_time": "2021-09-11T16:29:12.140575Z",
     "start_time": "2021-09-11T16:29:12.134680Z"
    }
   },
   "outputs": [],
   "source": [
    "gen_token = multinomial(F.softmax(filtered_logits, dim=-1), num_samples=1)"
   ]
  },
  {
   "cell_type": "code",
   "execution_count": 176,
   "metadata": {
    "ExecuteTime": {
     "end_time": "2021-09-11T16:29:12.346393Z",
     "start_time": "2021-09-11T16:29:12.340855Z"
    }
   },
   "outputs": [],
   "source": [
    "multinomial?"
   ]
  },
  {
   "cell_type": "code",
   "execution_count": 177,
   "metadata": {
    "ExecuteTime": {
     "end_time": "2021-09-11T16:29:12.722527Z",
     "start_time": "2021-09-11T16:29:12.715901Z"
    }
   },
   "outputs": [
    {
     "data": {
      "text/plain": [
       "' Richard'"
      ]
     },
     "execution_count": 177,
     "metadata": {},
     "output_type": "execute_result"
    }
   ],
   "source": [
    "tok.decode(gen_token.tolist()[0])"
   ]
  },
  {
   "cell_type": "markdown",
   "metadata": {},
   "source": [
    "## using generate func"
   ]
  },
  {
   "cell_type": "code",
   "execution_count": 188,
   "metadata": {
    "ExecuteTime": {
     "end_time": "2021-09-11T16:32:20.119011Z",
     "start_time": "2021-09-11T16:32:19.110642Z"
    }
   },
   "outputs": [
    {
     "name": "stderr",
     "output_type": "stream",
     "text": [
      "Setting `pad_token_id` to `eos_token_id`:50256 for open-end generation.\n"
     ]
    }
   ],
   "source": [
    "output = model.generate(**test_input, do_sample=True, top_p=0.84, top_k=100, max_length=200)"
   ]
  },
  {
   "cell_type": "code",
   "execution_count": 189,
   "metadata": {
    "ExecuteTime": {
     "end_time": "2021-09-11T16:32:20.132769Z",
     "start_time": "2021-09-11T16:32:20.120758Z"
    }
   },
   "outputs": [
    {
     "data": {
      "text/plain": [
       "\"A Brave New World. David Lynch. A remarkable new novel in a collection of people's stories and experiences and a story that's sure to be a delight to watch.<|endoftext|>\""
      ]
     },
     "execution_count": 189,
     "metadata": {},
     "output_type": "execute_result"
    }
   ],
   "source": [
    "tok.decode(output.tolist()[0])"
   ]
  },
  {
   "cell_type": "code",
   "execution_count": 190,
   "metadata": {
    "ExecuteTime": {
     "end_time": "2021-09-11T16:33:42.847583Z",
     "start_time": "2021-09-11T16:33:41.988177Z"
    }
   },
   "outputs": [
    {
     "name": "stderr",
     "output_type": "stream",
     "text": [
      "Setting `pad_token_id` to `eos_token_id`:50256 for open-end generation.\n"
     ]
    },
    {
     "data": {
      "text/plain": [
       "\"A Brave New World. The author of The Book and Its Tales explores the life and death of the 'good man' and its aftermath.<|endoftext|>\""
      ]
     },
     "execution_count": 190,
     "metadata": {},
     "output_type": "execute_result"
    }
   ],
   "source": [
    "output = model.generate(**test_input, do_sample=True, top_p=0.84, top_k=100, max_length=200)\n",
    "\n",
    "tok.decode(output.tolist()[0])"
   ]
  },
  {
   "cell_type": "code",
   "execution_count": 199,
   "metadata": {
    "ExecuteTime": {
     "end_time": "2021-09-11T16:35:00.477336Z",
     "start_time": "2021-09-11T16:34:57.886321Z"
    }
   },
   "outputs": [
    {
     "name": "stderr",
     "output_type": "stream",
     "text": [
      "Setting `pad_token_id` to `eos_token_id`:50256 for open-end generation.\n"
     ]
    },
    {
     "data": {
      "text/plain": [
       "\"Brave New World. John Wootman. After three days as a reporter, a young man is killed when his wife's home is raided, a young man's wife takes on the role of detective in the first episode of its first episode. But a mysterious, enigmatic investigator has also become a danger when a young woman is caught hiding among the rich-people. Reprint. 100,000 first printing.<|endoftext|>\""
      ]
     },
     "execution_count": 199,
     "metadata": {},
     "output_type": "execute_result"
    }
   ],
   "source": [
    "output = model.generate(**test_input, do_sample=True, top_p=0.84, top_k=100, max_length=200)\n",
    "\n",
    "tok.decode(output.tolist()[0])"
   ]
  },
  {
   "cell_type": "code",
   "execution_count": 200,
   "metadata": {
    "ExecuteTime": {
     "end_time": "2021-09-11T16:35:13.498376Z",
     "start_time": "2021-09-11T16:35:11.718938Z"
    }
   },
   "outputs": [
    {
     "name": "stderr",
     "output_type": "stream",
     "text": [
      "Setting `pad_token_id` to `eos_token_id`:50256 for open-end generation.\n"
     ]
    },
    {
     "data": {
      "text/plain": [
       "'Brave New World. Dorsett. When a pair of men arrive at the Skeligoth Library for a magical world, they discover the true nature of their dreams, and must choose between a new world of immortality and an unimaginable fate. Reprint. 25,000 first printing.<|endoftext|>'"
      ]
     },
     "execution_count": 200,
     "metadata": {},
     "output_type": "execute_result"
    }
   ],
   "source": [
    "output = model.generate(**test_input, do_sample=True, top_p=0.84, top_k=100, max_length=200)\n",
    "\n",
    "tok.decode(output.tolist()[0])"
   ]
  },
  {
   "cell_type": "code",
   "execution_count": 201,
   "metadata": {
    "ExecuteTime": {
     "end_time": "2021-09-11T16:35:39.468026Z",
     "start_time": "2021-09-11T16:35:38.444929Z"
    }
   },
   "outputs": [
    {
     "name": "stderr",
     "output_type": "stream",
     "text": [
      "Setting `pad_token_id` to `eos_token_id`:50256 for open-end generation.\n"
     ]
    },
    {
     "data": {
      "text/plain": [
       "'The ausine: The Death and the Life of a Species in a World in the Twenty Years of an American Biographer, Elizabeth Taylor.<|endoftext|>'"
      ]
     },
     "execution_count": 201,
     "metadata": {},
     "output_type": "execute_result"
    }
   ],
   "source": [
    "test_input = tok(\"The\", return_tensors='pt')\n",
    "output = model.generate(**test_input, do_sample=True, top_p=0.84, top_k=100, max_length=200)\n",
    "tok.decode(output.tolist()[0])"
   ]
  },
  {
   "cell_type": "code",
   "execution_count": 202,
   "metadata": {
    "ExecuteTime": {
     "end_time": "2021-09-11T16:35:47.430130Z",
     "start_time": "2021-09-11T16:35:45.841208Z"
    }
   },
   "outputs": [
    {
     "name": "stderr",
     "output_type": "stream",
     "text": [
      "Setting `pad_token_id` to `eos_token_id`:50256 for open-end generation.\n"
     ]
    },
    {
     "data": {
      "text/plain": [
       "\"The2. It's the way of life, not the way of money, it's how people think about it. It's about finding a way out of a place of need, and knowing the place that is yours for you.<|endoftext|>\""
      ]
     },
     "execution_count": 202,
     "metadata": {},
     "output_type": "execute_result"
    }
   ],
   "source": [
    "test_input = tok(\"The\", return_tensors='pt')\n",
    "output = model.generate(**test_input, do_sample=True, top_p=0.84, top_k=100, max_length=200)\n",
    "tok.decode(output.tolist()[0])"
   ]
  },
  {
   "cell_type": "code",
   "execution_count": 203,
   "metadata": {
    "ExecuteTime": {
     "end_time": "2021-09-11T16:35:55.720660Z",
     "start_time": "2021-09-11T16:35:54.593204Z"
    }
   },
   "outputs": [
    {
     "name": "stderr",
     "output_type": "stream",
     "text": [
      "Setting `pad_token_id` to `eos_token_id`:50256 for open-end generation.\n"
     ]
    },
    {
     "data": {
      "text/plain": [
       "\"The.\\nThe Church of England. Richard V. Williams. A biography of the Church of England's leading theologian. Contains the book's cover in English.<|endoftext|>\""
      ]
     },
     "execution_count": 203,
     "metadata": {},
     "output_type": "execute_result"
    }
   ],
   "source": [
    "test_input = tok(\"The\", return_tensors='pt')\n",
    "output = model.generate(**test_input, do_sample=True, top_p=0.84, top_k=100, max_length=200)\n",
    "tok.decode(output.tolist()[0])"
   ]
  },
  {
   "cell_type": "code",
   "execution_count": 205,
   "metadata": {
    "ExecuteTime": {
     "end_time": "2021-09-11T16:36:09.980539Z",
     "start_time": "2021-09-11T16:36:08.180318Z"
    }
   },
   "outputs": [
    {
     "name": "stderr",
     "output_type": "stream",
     "text": [
      "Setting `pad_token_id` to `eos_token_id`:50256 for open-end generation.\n"
     ]
    },
    {
     "data": {
      "text/plain": [
       "\"What I Want? (For the Love of Divers  #2). Joseph Gussman. The story of the vampire/murder-dancer's quest to discover the secrets of a dying child is one of the many tales of the vampire, with a unique blend of wit and fantasy.<|endoftext|>\""
      ]
     },
     "execution_count": 205,
     "metadata": {},
     "output_type": "execute_result"
    }
   ],
   "source": [
    "test_input = tok(\"What I Want?\", return_tensors='pt')\n",
    "output = model.generate(**test_input, do_sample=True, top_p=0.84, top_k=100, max_length=200)\n",
    "tok.decode(output.tolist()[0])"
   ]
  },
  {
   "cell_type": "code",
   "execution_count": 212,
   "metadata": {
    "ExecuteTime": {
     "end_time": "2021-09-11T16:53:17.910031Z",
     "start_time": "2021-09-11T16:53:16.921966Z"
    }
   },
   "outputs": [
    {
     "name": "stderr",
     "output_type": "stream",
     "text": [
      "Setting `pad_token_id` to `eos_token_id`:50256 for open-end generation.\n"
     ]
    },
    {
     "data": {
      "text/plain": [
       "'Turtle. In the title novel, \"Elric,\" the giant of the sea, he becomes the first to see his friend, the famous Elric.<|endoftext|>'"
      ]
     },
     "execution_count": 212,
     "metadata": {},
     "output_type": "execute_result"
    }
   ],
   "source": [
    "test_input = tok(\"Turtle\", return_tensors='pt')\n",
    "output = model.generate(**test_input, do_sample=True, top_p=0.84, top_k=100, min_length=10, max_length=200)\n",
    "tok.decode(output.tolist()[0])"
   ]
  },
  {
   "cell_type": "code",
   "execution_count": 194,
   "metadata": {
    "ExecuteTime": {
     "end_time": "2021-09-11T16:34:24.406007Z",
     "start_time": "2021-09-11T16:34:24.381171Z"
    }
   },
   "outputs": [
    {
     "data": {
      "text/html": [
       "<div>\n",
       "<style scoped>\n",
       "    .dataframe tbody tr th:only-of-type {\n",
       "        vertical-align: middle;\n",
       "    }\n",
       "\n",
       "    .dataframe tbody tr th {\n",
       "        vertical-align: top;\n",
       "    }\n",
       "\n",
       "    .dataframe thead th {\n",
       "        text-align: right;\n",
       "    }\n",
       "</style>\n",
       "<table border=\"1\" class=\"dataframe\">\n",
       "  <thead>\n",
       "    <tr style=\"text-align: right;\">\n",
       "      <th></th>\n",
       "      <th>text</th>\n",
       "    </tr>\n",
       "  </thead>\n",
       "  <tbody>\n",
       "    <tr>\n",
       "      <th>1036</th>\n",
       "      <td>Brave New World. Aldous Huxley. Huxley's class...</td>\n",
       "    </tr>\n",
       "    <tr>\n",
       "      <th>1040</th>\n",
       "      <td>Moksha: Writings on Psychedelics &amp; the Visiona...</td>\n",
       "    </tr>\n",
       "    <tr>\n",
       "      <th>1041</th>\n",
       "      <td>Point Counter Point. Aldous Huxley. Aldous Hux...</td>\n",
       "    </tr>\n",
       "    <tr>\n",
       "      <th>1121</th>\n",
       "      <td>Brave New World / Brave New World Revisited. A...</td>\n",
       "    </tr>\n",
       "    <tr>\n",
       "      <th>1122</th>\n",
       "      <td>Brave New World and Brave New World Revisited....</td>\n",
       "    </tr>\n",
       "    <tr>\n",
       "      <th>1123</th>\n",
       "      <td>Brave New World Revisited. Aldous Huxley. When...</td>\n",
       "    </tr>\n",
       "    <tr>\n",
       "      <th>1124</th>\n",
       "      <td>Brave New World. Aldous Huxley. Huxley's class...</td>\n",
       "    </tr>\n",
       "    <tr>\n",
       "      <th>7185</th>\n",
       "      <td>The Handmaid's Tale. Margaret Atwood. (Book Ja...</td>\n",
       "    </tr>\n",
       "  </tbody>\n",
       "</table>\n",
       "</div>"
      ],
      "text/plain": [
       "                                                   text\n",
       "1036  Brave New World. Aldous Huxley. Huxley's class...\n",
       "1040  Moksha: Writings on Psychedelics & the Visiona...\n",
       "1041  Point Counter Point. Aldous Huxley. Aldous Hux...\n",
       "1121  Brave New World / Brave New World Revisited. A...\n",
       "1122  Brave New World and Brave New World Revisited....\n",
       "1123  Brave New World Revisited. Aldous Huxley. When...\n",
       "1124  Brave New World. Aldous Huxley. Huxley's class...\n",
       "7185  The Handmaid's Tale. Margaret Atwood. (Book Ja..."
      ]
     },
     "execution_count": 194,
     "metadata": {},
     "output_type": "execute_result"
    }
   ],
   "source": [
    "df[df['text'].apply(lambda x: 'Brave New World' in x)]"
   ]
  },
  {
   "cell_type": "code",
   "execution_count": null,
   "metadata": {},
   "outputs": [],
   "source": []
  }
 ],
 "metadata": {
  "kernelspec": {
   "display_name": "Python3.7.7",
   "language": "python",
   "name": "python3.7.7"
  },
  "language_info": {
   "codemirror_mode": {
    "name": "ipython",
    "version": 3
   },
   "file_extension": ".py",
   "mimetype": "text/x-python",
   "name": "python",
   "nbconvert_exporter": "python",
   "pygments_lexer": "ipython3",
   "version": "3.7.7"
  },
  "toc": {
   "base_numbering": 1,
   "nav_menu": {},
   "number_sections": true,
   "sideBar": true,
   "skip_h1_title": false,
   "title_cell": "Table of Contents",
   "title_sidebar": "Contents",
   "toc_cell": false,
   "toc_position": {},
   "toc_section_display": true,
   "toc_window_display": false
  }
 },
 "nbformat": 4,
 "nbformat_minor": 5
}
