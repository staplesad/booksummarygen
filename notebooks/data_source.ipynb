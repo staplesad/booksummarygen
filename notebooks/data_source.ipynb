{
 "cells": [
  {
   "cell_type": "code",
   "execution_count": 1,
   "metadata": {
    "ExecuteTime": {
     "end_time": "2020-05-16T20:30:36.433896Z",
     "start_time": "2020-05-16T20:30:34.942872Z"
    }
   },
   "outputs": [],
   "source": [
    "import pandas as pd\n",
    "import requests"
   ]
  },
  {
   "cell_type": "markdown",
   "metadata": {},
   "source": [
    "# load data from csv"
   ]
  },
  {
   "cell_type": "code",
   "execution_count": 2,
   "metadata": {
    "ExecuteTime": {
     "end_time": "2020-05-16T20:30:36.542695Z",
     "start_time": "2020-05-16T20:30:36.439073Z"
    }
   },
   "outputs": [
    {
     "name": "stderr",
     "output_type": "stream",
     "text": [
      "b'Skipping line 3350: expected 12 fields, saw 13\\nSkipping line 4704: expected 12 fields, saw 13\\nSkipping line 5879: expected 12 fields, saw 13\\nSkipping line 8981: expected 12 fields, saw 13\\n'\n"
     ]
    }
   ],
   "source": [
    "df = pd.read_csv('books.csv', error_bad_lines=False)"
   ]
  },
  {
   "cell_type": "code",
   "execution_count": 3,
   "metadata": {
    "ExecuteTime": {
     "end_time": "2020-05-16T20:30:36.588552Z",
     "start_time": "2020-05-16T20:30:36.548371Z"
    }
   },
   "outputs": [
    {
     "data": {
      "text/plain": [
       "Index(['bookID', 'title', 'authors', 'average_rating', 'isbn', 'isbn13',\n",
       "       'language_code', '  num_pages', 'ratings_count', 'text_reviews_count',\n",
       "       'publication_date', 'publisher'],\n",
       "      dtype='object')"
      ]
     },
     "execution_count": 3,
     "metadata": {},
     "output_type": "execute_result"
    }
   ],
   "source": [
    "df.columns"
   ]
  },
  {
   "cell_type": "markdown",
   "metadata": {},
   "source": [
    "## number of unique book titles"
   ]
  },
  {
   "cell_type": "code",
   "execution_count": 4,
   "metadata": {
    "ExecuteTime": {
     "end_time": "2020-05-16T20:30:36.734234Z",
     "start_time": "2020-05-16T20:30:36.619169Z"
    }
   },
   "outputs": [
    {
     "data": {
      "text/plain": [
       "10348"
      ]
     },
     "execution_count": 4,
     "metadata": {},
     "output_type": "execute_result"
    }
   ],
   "source": [
    "df.title.nunique()"
   ]
  },
  {
   "cell_type": "code",
   "execution_count": 5,
   "metadata": {
    "ExecuteTime": {
     "end_time": "2020-05-16T20:30:36.955542Z",
     "start_time": "2020-05-16T20:30:36.751164Z"
    }
   },
   "outputs": [
    {
     "name": "stdout",
     "output_type": "stream",
     "text": [
      "   11128 books.csv\r\n"
     ]
    }
   ],
   "source": [
    "!wc -l books.csv"
   ]
  },
  {
   "cell_type": "code",
   "execution_count": 6,
   "metadata": {
    "ExecuteTime": {
     "end_time": "2020-05-16T20:30:36.986512Z",
     "start_time": "2020-05-16T20:30:36.960205Z"
    }
   },
   "outputs": [
    {
     "data": {
      "text/plain": [
       "11123"
      ]
     },
     "execution_count": 6,
     "metadata": {},
     "output_type": "execute_result"
    }
   ],
   "source": [
    "df.shape[0]"
   ]
  },
  {
   "cell_type": "markdown",
   "metadata": {},
   "source": [
    "## english language only"
   ]
  },
  {
   "cell_type": "code",
   "execution_count": 7,
   "metadata": {
    "ExecuteTime": {
     "end_time": "2020-05-16T20:30:38.028745Z",
     "start_time": "2020-05-16T20:30:38.018678Z"
    }
   },
   "outputs": [
    {
     "data": {
      "text/plain": [
       "array(['eng', 'en-US', 'fre', 'spa', 'en-GB', 'mul', 'grc', 'enm',\n",
       "       'en-CA', 'ger', 'jpn', 'ara', 'nl', 'zho', 'lat', 'por', 'srp',\n",
       "       'ita', 'rus', 'msa', 'glg', 'wel', 'swe', 'nor', 'tur', 'gla',\n",
       "       'ale'], dtype=object)"
      ]
     },
     "execution_count": 7,
     "metadata": {},
     "output_type": "execute_result"
    }
   ],
   "source": [
    "df.language_code.unique()"
   ]
  },
  {
   "cell_type": "code",
   "execution_count": 8,
   "metadata": {
    "ExecuteTime": {
     "end_time": "2020-05-16T20:30:40.432929Z",
     "start_time": "2020-05-16T20:30:40.410457Z"
    }
   },
   "outputs": [],
   "source": [
    "english_codes = ['eng', 'en-US', 'en-CA', 'en-GB', 'enm']\n",
    "\n",
    "english_books = df[df.language_code.isin(english_codes)]"
   ]
  },
  {
   "cell_type": "code",
   "execution_count": 9,
   "metadata": {
    "ExecuteTime": {
     "end_time": "2020-05-16T20:30:40.912674Z",
     "start_time": "2020-05-16T20:30:40.864904Z"
    }
   },
   "outputs": [
    {
     "data": {
      "text/html": [
       "<div>\n",
       "<style scoped>\n",
       "    .dataframe tbody tr th:only-of-type {\n",
       "        vertical-align: middle;\n",
       "    }\n",
       "\n",
       "    .dataframe tbody tr th {\n",
       "        vertical-align: top;\n",
       "    }\n",
       "\n",
       "    .dataframe thead th {\n",
       "        text-align: right;\n",
       "    }\n",
       "</style>\n",
       "<table border=\"1\" class=\"dataframe\">\n",
       "  <thead>\n",
       "    <tr style=\"text-align: right;\">\n",
       "      <th></th>\n",
       "      <th>bookID</th>\n",
       "      <th>title</th>\n",
       "      <th>authors</th>\n",
       "      <th>average_rating</th>\n",
       "      <th>isbn</th>\n",
       "      <th>isbn13</th>\n",
       "      <th>language_code</th>\n",
       "      <th>num_pages</th>\n",
       "      <th>ratings_count</th>\n",
       "      <th>text_reviews_count</th>\n",
       "      <th>publication_date</th>\n",
       "      <th>publisher</th>\n",
       "    </tr>\n",
       "  </thead>\n",
       "  <tbody>\n",
       "    <tr>\n",
       "      <th>9274</th>\n",
       "      <td>36425</td>\n",
       "      <td>The American Flag (Symbols of America)</td>\n",
       "      <td>Debra Hess</td>\n",
       "      <td>4.00</td>\n",
       "      <td>0761417095</td>\n",
       "      <td>9780761417095</td>\n",
       "      <td>eng</td>\n",
       "      <td>39</td>\n",
       "      <td>3</td>\n",
       "      <td>0</td>\n",
       "      <td>1/1/2004</td>\n",
       "      <td>Cavendish Square Publishing</td>\n",
       "    </tr>\n",
       "    <tr>\n",
       "      <th>5271</th>\n",
       "      <td>19065</td>\n",
       "      <td>Fighting Ruben Wolfe (Wolfe Brothers  #2)</td>\n",
       "      <td>Markus Zusak/Stig Wemyss</td>\n",
       "      <td>3.84</td>\n",
       "      <td>0439241871</td>\n",
       "      <td>9780439241878</td>\n",
       "      <td>eng</td>\n",
       "      <td>224</td>\n",
       "      <td>3105</td>\n",
       "      <td>223</td>\n",
       "      <td>6/1/2002</td>\n",
       "      <td>Push</td>\n",
       "    </tr>\n",
       "    <tr>\n",
       "      <th>3197</th>\n",
       "      <td>11693</td>\n",
       "      <td>The White Castle</td>\n",
       "      <td>Orhan Pamuk/Victoria Rowe Holbrook</td>\n",
       "      <td>3.46</td>\n",
       "      <td>0571164668</td>\n",
       "      <td>9780571164660</td>\n",
       "      <td>eng</td>\n",
       "      <td>161</td>\n",
       "      <td>6994</td>\n",
       "      <td>431</td>\n",
       "      <td>7/26/2000</td>\n",
       "      <td>Faber and Faber</td>\n",
       "    </tr>\n",
       "  </tbody>\n",
       "</table>\n",
       "</div>"
      ],
      "text/plain": [
       "      bookID                                      title  \\\n",
       "9274   36425     The American Flag (Symbols of America)   \n",
       "5271   19065  Fighting Ruben Wolfe (Wolfe Brothers  #2)   \n",
       "3197   11693                           The White Castle   \n",
       "\n",
       "                                 authors  average_rating        isbn  \\\n",
       "9274                          Debra Hess            4.00  0761417095   \n",
       "5271            Markus Zusak/Stig Wemyss            3.84  0439241871   \n",
       "3197  Orhan Pamuk/Victoria Rowe Holbrook            3.46  0571164668   \n",
       "\n",
       "             isbn13 language_code    num_pages  ratings_count  \\\n",
       "9274  9780761417095           eng           39              3   \n",
       "5271  9780439241878           eng          224           3105   \n",
       "3197  9780571164660           eng          161           6994   \n",
       "\n",
       "      text_reviews_count publication_date                    publisher  \n",
       "9274                   0         1/1/2004  Cavendish Square Publishing  \n",
       "5271                 223         6/1/2002                         Push  \n",
       "3197                 431        7/26/2000              Faber and Faber  "
      ]
     },
     "execution_count": 9,
     "metadata": {},
     "output_type": "execute_result"
    }
   ],
   "source": [
    "english_books.sample(3)"
   ]
  },
  {
   "cell_type": "markdown",
   "metadata": {},
   "source": [
    "## number of unique authors"
   ]
  },
  {
   "cell_type": "code",
   "execution_count": 10,
   "metadata": {
    "ExecuteTime": {
     "end_time": "2020-05-16T20:31:05.759573Z",
     "start_time": "2020-05-16T20:31:05.749229Z"
    }
   },
   "outputs": [
    {
     "data": {
      "text/plain": [
       "6362"
      ]
     },
     "execution_count": 10,
     "metadata": {},
     "output_type": "execute_result"
    }
   ],
   "source": [
    "english_books.authors.nunique()"
   ]
  },
  {
   "cell_type": "code",
   "execution_count": 11,
   "metadata": {
    "ExecuteTime": {
     "end_time": "2020-05-16T20:31:06.063534Z",
     "start_time": "2020-05-16T20:31:06.033089Z"
    }
   },
   "outputs": [
    {
     "data": {
      "text/plain": [
       "P.G. Wodehouse                                         40\n",
       "Stephen King                                           38\n",
       "Orson Scott Card                                       34\n",
       "Agatha Christie                                        33\n",
       "Piers Anthony                                          30\n",
       "                                                       ..\n",
       "Friedrich Nietzsche/R.J. Hollingdale/Michael Tanner     1\n",
       "Jim Supica/Richard Nahas                                1\n",
       "Craig Keller                                            1\n",
       "William Andrewes                                        1\n",
       "Albert Einstein/Hanoch Gutfreund                        1\n",
       "Name: authors, Length: 6362, dtype: int64"
      ]
     },
     "execution_count": 11,
     "metadata": {},
     "output_type": "execute_result"
    }
   ],
   "source": [
    "english_books.authors.value_counts()"
   ]
  },
  {
   "cell_type": "code",
   "execution_count": 12,
   "metadata": {
    "ExecuteTime": {
     "end_time": "2020-05-16T20:31:06.322867Z",
     "start_time": "2020-05-16T20:31:06.260280Z"
    }
   },
   "outputs": [
    {
     "data": {
      "text/html": [
       "<div>\n",
       "<style scoped>\n",
       "    .dataframe tbody tr th:only-of-type {\n",
       "        vertical-align: middle;\n",
       "    }\n",
       "\n",
       "    .dataframe tbody tr th {\n",
       "        vertical-align: top;\n",
       "    }\n",
       "\n",
       "    .dataframe thead th {\n",
       "        text-align: right;\n",
       "    }\n",
       "</style>\n",
       "<table border=\"1\" class=\"dataframe\">\n",
       "  <thead>\n",
       "    <tr style=\"text-align: right;\">\n",
       "      <th></th>\n",
       "      <th>bookID</th>\n",
       "      <th>title</th>\n",
       "      <th>authors</th>\n",
       "      <th>average_rating</th>\n",
       "      <th>isbn</th>\n",
       "      <th>isbn13</th>\n",
       "      <th>language_code</th>\n",
       "      <th>num_pages</th>\n",
       "      <th>ratings_count</th>\n",
       "      <th>text_reviews_count</th>\n",
       "      <th>publication_date</th>\n",
       "      <th>publisher</th>\n",
       "    </tr>\n",
       "  </thead>\n",
       "  <tbody>\n",
       "    <tr>\n",
       "      <th>3439</th>\n",
       "      <td>12550</td>\n",
       "      <td>Stiff Upper Lip  Jeeves (Jeeves  #13)</td>\n",
       "      <td>P.G. Wodehouse</td>\n",
       "      <td>4.29</td>\n",
       "      <td>184159105X</td>\n",
       "      <td>9781841591056</td>\n",
       "      <td>eng</td>\n",
       "      <td>211</td>\n",
       "      <td>6970</td>\n",
       "      <td>310</td>\n",
       "      <td>12/17/2002</td>\n",
       "      <td>Everyman's Library</td>\n",
       "    </tr>\n",
       "    <tr>\n",
       "      <th>4548</th>\n",
       "      <td>16374</td>\n",
       "      <td>The Most of P.G. Wodehouse</td>\n",
       "      <td>P.G. Wodehouse</td>\n",
       "      <td>4.48</td>\n",
       "      <td>0743203585</td>\n",
       "      <td>9780743203586</td>\n",
       "      <td>eng</td>\n",
       "      <td>701</td>\n",
       "      <td>1872</td>\n",
       "      <td>106</td>\n",
       "      <td>11/1/2000</td>\n",
       "      <td>Simon &amp; Schuster</td>\n",
       "    </tr>\n",
       "    <tr>\n",
       "      <th>4549</th>\n",
       "      <td>16376</td>\n",
       "      <td>Full Moon (Blandings Castle  #7)</td>\n",
       "      <td>P.G. Wodehouse</td>\n",
       "      <td>4.17</td>\n",
       "      <td>1585678368</td>\n",
       "      <td>9781585678365</td>\n",
       "      <td>eng</td>\n",
       "      <td>272</td>\n",
       "      <td>1860</td>\n",
       "      <td>131</td>\n",
       "      <td>11/23/2006</td>\n",
       "      <td>Harry N. Abrams</td>\n",
       "    </tr>\n",
       "    <tr>\n",
       "      <th>4550</th>\n",
       "      <td>16377</td>\n",
       "      <td>How Right You Are  Jeeves (Jeeves  #12)</td>\n",
       "      <td>P.G. Wodehouse</td>\n",
       "      <td>4.17</td>\n",
       "      <td>0743203593</td>\n",
       "      <td>9780743203593</td>\n",
       "      <td>eng</td>\n",
       "      <td>206</td>\n",
       "      <td>2769</td>\n",
       "      <td>156</td>\n",
       "      <td>11/1/2000</td>\n",
       "      <td>Touchstone</td>\n",
       "    </tr>\n",
       "    <tr>\n",
       "      <th>4551</th>\n",
       "      <td>16379</td>\n",
       "      <td>Life With Jeeves (Jeeves  #6  2  &amp; 4)</td>\n",
       "      <td>P.G. Wodehouse</td>\n",
       "      <td>4.39</td>\n",
       "      <td>0140059024</td>\n",
       "      <td>9780140059021</td>\n",
       "      <td>eng</td>\n",
       "      <td>557</td>\n",
       "      <td>3169</td>\n",
       "      <td>137</td>\n",
       "      <td>9/29/1983</td>\n",
       "      <td>Penguin Books</td>\n",
       "    </tr>\n",
       "    <tr>\n",
       "      <th>4552</th>\n",
       "      <td>16384</td>\n",
       "      <td>Spring Fever</td>\n",
       "      <td>P.G. Wodehouse</td>\n",
       "      <td>4.05</td>\n",
       "      <td>158567575X</td>\n",
       "      <td>9781585675753</td>\n",
       "      <td>eng</td>\n",
       "      <td>276</td>\n",
       "      <td>483</td>\n",
       "      <td>31</td>\n",
       "      <td>10/21/2004</td>\n",
       "      <td>Harry N. Abrams</td>\n",
       "    </tr>\n",
       "    <tr>\n",
       "      <th>4553</th>\n",
       "      <td>16387</td>\n",
       "      <td>Carry On  Jeeves (Jeeves  #3)</td>\n",
       "      <td>P.G. Wodehouse</td>\n",
       "      <td>4.27</td>\n",
       "      <td>1585673927</td>\n",
       "      <td>9781585673926</td>\n",
       "      <td>eng</td>\n",
       "      <td>273</td>\n",
       "      <td>15598</td>\n",
       "      <td>771</td>\n",
       "      <td>3/31/2003</td>\n",
       "      <td>The Overlook Press</td>\n",
       "    </tr>\n",
       "    <tr>\n",
       "      <th>4554</th>\n",
       "      <td>16388</td>\n",
       "      <td>Lord Emsworth and Others (Blandings Castle  #5.5)</td>\n",
       "      <td>P.G. Wodehouse</td>\n",
       "      <td>4.16</td>\n",
       "      <td>1585672777</td>\n",
       "      <td>9781585672776</td>\n",
       "      <td>eng</td>\n",
       "      <td>268</td>\n",
       "      <td>1099</td>\n",
       "      <td>77</td>\n",
       "      <td>5/13/2002</td>\n",
       "      <td>The Overlook Press</td>\n",
       "    </tr>\n",
       "    <tr>\n",
       "      <th>4555</th>\n",
       "      <td>16390</td>\n",
       "      <td>The Mating Season (Jeeves  #9)</td>\n",
       "      <td>P.G. Wodehouse</td>\n",
       "      <td>4.26</td>\n",
       "      <td>1585672319</td>\n",
       "      <td>9781585672318</td>\n",
       "      <td>eng</td>\n",
       "      <td>272</td>\n",
       "      <td>4616</td>\n",
       "      <td>287</td>\n",
       "      <td>1/1/2002</td>\n",
       "      <td>Harry N. Abrams</td>\n",
       "    </tr>\n",
       "    <tr>\n",
       "      <th>4556</th>\n",
       "      <td>16392</td>\n",
       "      <td>Thank You  Jeeves (Jeeves  #5)</td>\n",
       "      <td>P.G. Wodehouse</td>\n",
       "      <td>4.24</td>\n",
       "      <td>1585674346</td>\n",
       "      <td>9781585674343</td>\n",
       "      <td>eng</td>\n",
       "      <td>263</td>\n",
       "      <td>5700</td>\n",
       "      <td>308</td>\n",
       "      <td>9/15/2003</td>\n",
       "      <td>Harry N. Abrams</td>\n",
       "    </tr>\n",
       "    <tr>\n",
       "      <th>4557</th>\n",
       "      <td>16393</td>\n",
       "      <td>Big Money</td>\n",
       "      <td>P.G. Wodehouse</td>\n",
       "      <td>3.93</td>\n",
       "      <td>014000937X</td>\n",
       "      <td>9780140009378</td>\n",
       "      <td>eng</td>\n",
       "      <td>288</td>\n",
       "      <td>1117</td>\n",
       "      <td>78</td>\n",
       "      <td>9/3/1991</td>\n",
       "      <td>Penguin Books</td>\n",
       "    </tr>\n",
       "    <tr>\n",
       "      <th>4558</th>\n",
       "      <td>16394</td>\n",
       "      <td>Much Obliged  Jeeves</td>\n",
       "      <td>P.G. Wodehouse</td>\n",
       "      <td>4.23</td>\n",
       "      <td>1585675261</td>\n",
       "      <td>9781585675265</td>\n",
       "      <td>eng</td>\n",
       "      <td>208</td>\n",
       "      <td>701</td>\n",
       "      <td>64</td>\n",
       "      <td>4/12/2004</td>\n",
       "      <td>Harry N. Abrams</td>\n",
       "    </tr>\n",
       "    <tr>\n",
       "      <th>4559</th>\n",
       "      <td>16396</td>\n",
       "      <td>The Inimitable Jeeves (Jeeves  #2)</td>\n",
       "      <td>P.G. Wodehouse</td>\n",
       "      <td>4.24</td>\n",
       "      <td>0140284125</td>\n",
       "      <td>9780140284126</td>\n",
       "      <td>eng</td>\n",
       "      <td>240</td>\n",
       "      <td>7442</td>\n",
       "      <td>320</td>\n",
       "      <td>6/1/2000</td>\n",
       "      <td>Penguin Books</td>\n",
       "    </tr>\n",
       "    <tr>\n",
       "      <th>4561</th>\n",
       "      <td>16400</td>\n",
       "      <td>Money in the Bank</td>\n",
       "      <td>P.G. Wodehouse</td>\n",
       "      <td>4.13</td>\n",
       "      <td>1585676578</td>\n",
       "      <td>9781585676576</td>\n",
       "      <td>eng</td>\n",
       "      <td>290</td>\n",
       "      <td>321</td>\n",
       "      <td>27</td>\n",
       "      <td>4/7/2005</td>\n",
       "      <td>Harry N. Abrams</td>\n",
       "    </tr>\n",
       "    <tr>\n",
       "      <th>4562</th>\n",
       "      <td>16401</td>\n",
       "      <td>The Luck of the Bodkins</td>\n",
       "      <td>P.G. Wodehouse</td>\n",
       "      <td>4.08</td>\n",
       "      <td>1585673366</td>\n",
       "      <td>9781585673360</td>\n",
       "      <td>eng</td>\n",
       "      <td>358</td>\n",
       "      <td>1290</td>\n",
       "      <td>88</td>\n",
       "      <td>10/23/2002</td>\n",
       "      <td>Harry N. Abrams</td>\n",
       "    </tr>\n",
       "    <tr>\n",
       "      <th>4979</th>\n",
       "      <td>18016</td>\n",
       "      <td>Mulliner Nights (Mr. Mulliner  #3)</td>\n",
       "      <td>P.G. Wodehouse</td>\n",
       "      <td>4.11</td>\n",
       "      <td>1400079616</td>\n",
       "      <td>9781400079612</td>\n",
       "      <td>eng</td>\n",
       "      <td>240</td>\n",
       "      <td>1174</td>\n",
       "      <td>75</td>\n",
       "      <td>4/12/2005</td>\n",
       "      <td>Vintage</td>\n",
       "    </tr>\n",
       "    <tr>\n",
       "      <th>4980</th>\n",
       "      <td>18017</td>\n",
       "      <td>Life at Blandings</td>\n",
       "      <td>P.G. Wodehouse</td>\n",
       "      <td>4.35</td>\n",
       "      <td>0140059032</td>\n",
       "      <td>9780140059038</td>\n",
       "      <td>en-US</td>\n",
       "      <td>608</td>\n",
       "      <td>2651</td>\n",
       "      <td>47</td>\n",
       "      <td>1/5/1988</td>\n",
       "      <td>Penguin Books</td>\n",
       "    </tr>\n",
       "    <tr>\n",
       "      <th>4981</th>\n",
       "      <td>18018</td>\n",
       "      <td>Jill the Reckless</td>\n",
       "      <td>P.G. Wodehouse</td>\n",
       "      <td>4.02</td>\n",
       "      <td>1585676608</td>\n",
       "      <td>9781585676606</td>\n",
       "      <td>eng</td>\n",
       "      <td>290</td>\n",
       "      <td>666</td>\n",
       "      <td>82</td>\n",
       "      <td>4/7/2005</td>\n",
       "      <td>Harry N. Abrams</td>\n",
       "    </tr>\n",
       "    <tr>\n",
       "      <th>4985</th>\n",
       "      <td>18025</td>\n",
       "      <td>Something Fresh (Blandings Castle  #1)</td>\n",
       "      <td>P.G. Wodehouse</td>\n",
       "      <td>4.16</td>\n",
       "      <td>1585676586</td>\n",
       "      <td>9781585676583</td>\n",
       "      <td>eng</td>\n",
       "      <td>284</td>\n",
       "      <td>5311</td>\n",
       "      <td>391</td>\n",
       "      <td>4/7/2005</td>\n",
       "      <td>Harry N. Abrams</td>\n",
       "    </tr>\n",
       "    <tr>\n",
       "      <th>4986</th>\n",
       "      <td>18027</td>\n",
       "      <td>The Clicking of Cuthbert</td>\n",
       "      <td>P.G. Wodehouse</td>\n",
       "      <td>3.93</td>\n",
       "      <td>1406929980</td>\n",
       "      <td>9781406929980</td>\n",
       "      <td>eng</td>\n",
       "      <td>162</td>\n",
       "      <td>6</td>\n",
       "      <td>1</td>\n",
       "      <td>11/3/2006</td>\n",
       "      <td>Hard Press</td>\n",
       "    </tr>\n",
       "    <tr>\n",
       "      <th>4987</th>\n",
       "      <td>18029</td>\n",
       "      <td>Ring for Jeeves (Jeeves  #10)</td>\n",
       "      <td>P.G. Wodehouse</td>\n",
       "      <td>4.01</td>\n",
       "      <td>1585675245</td>\n",
       "      <td>9781585675241</td>\n",
       "      <td>eng</td>\n",
       "      <td>208</td>\n",
       "      <td>2785</td>\n",
       "      <td>183</td>\n",
       "      <td>4/12/2004</td>\n",
       "      <td>Harry N. Abrams</td>\n",
       "    </tr>\n",
       "    <tr>\n",
       "      <th>4988</th>\n",
       "      <td>18031</td>\n",
       "      <td>Ukridge</td>\n",
       "      <td>P.G. Wodehouse</td>\n",
       "      <td>3.89</td>\n",
       "      <td>1585674796</td>\n",
       "      <td>9781585674794</td>\n",
       "      <td>eng</td>\n",
       "      <td>272</td>\n",
       "      <td>1019</td>\n",
       "      <td>83</td>\n",
       "      <td>9/15/2003</td>\n",
       "      <td>Harry N. Abrams</td>\n",
       "    </tr>\n",
       "    <tr>\n",
       "      <th>4989</th>\n",
       "      <td>18032</td>\n",
       "      <td>Jeeves and the Tie That Binds (Jeeves  #14)</td>\n",
       "      <td>P.G. Wodehouse</td>\n",
       "      <td>4.23</td>\n",
       "      <td>0743203623</td>\n",
       "      <td>9780743203623</td>\n",
       "      <td>eng</td>\n",
       "      <td>205</td>\n",
       "      <td>2781</td>\n",
       "      <td>130</td>\n",
       "      <td>11/1/2000</td>\n",
       "      <td>Touchstone</td>\n",
       "    </tr>\n",
       "    <tr>\n",
       "      <th>4990</th>\n",
       "      <td>18035</td>\n",
       "      <td>Right Ho  Jeeves (Jeeves  #6)</td>\n",
       "      <td>P.G. Wodehouse</td>\n",
       "      <td>4.32</td>\n",
       "      <td>140690483X</td>\n",
       "      <td>9781406904833</td>\n",
       "      <td>eng</td>\n",
       "      <td>224</td>\n",
       "      <td>8193</td>\n",
       "      <td>443</td>\n",
       "      <td>11/3/2006</td>\n",
       "      <td>Hard Press</td>\n",
       "    </tr>\n",
       "    <tr>\n",
       "      <th>4991</th>\n",
       "      <td>18039</td>\n",
       "      <td>Blandings Castle (Blandings Castle  #3)</td>\n",
       "      <td>P.G. Wodehouse</td>\n",
       "      <td>4.18</td>\n",
       "      <td>1585673382</td>\n",
       "      <td>9781585673384</td>\n",
       "      <td>eng</td>\n",
       "      <td>301</td>\n",
       "      <td>1370</td>\n",
       "      <td>70</td>\n",
       "      <td>10/23/2002</td>\n",
       "      <td>Harry N. Abrams</td>\n",
       "    </tr>\n",
       "    <tr>\n",
       "      <th>4992</th>\n",
       "      <td>18041</td>\n",
       "      <td>Mr. Mulliner Speaking</td>\n",
       "      <td>P.G. Wodehouse</td>\n",
       "      <td>4.01</td>\n",
       "      <td>1841591386</td>\n",
       "      <td>9781841591384</td>\n",
       "      <td>en-US</td>\n",
       "      <td>232</td>\n",
       "      <td>1497</td>\n",
       "      <td>48</td>\n",
       "      <td>3/3/2005</td>\n",
       "      <td>Everyman Library / Overlook Press</td>\n",
       "    </tr>\n",
       "    <tr>\n",
       "      <th>4993</th>\n",
       "      <td>18042</td>\n",
       "      <td>Laughing Gas</td>\n",
       "      <td>P.G. Wodehouse</td>\n",
       "      <td>3.89</td>\n",
       "      <td>1585672327</td>\n",
       "      <td>9781585672325</td>\n",
       "      <td>eng</td>\n",
       "      <td>286</td>\n",
       "      <td>1723</td>\n",
       "      <td>129</td>\n",
       "      <td>1/1/2002</td>\n",
       "      <td>Harry N. Abrams</td>\n",
       "    </tr>\n",
       "    <tr>\n",
       "      <th>4994</th>\n",
       "      <td>18047</td>\n",
       "      <td>The Adventures of Sally</td>\n",
       "      <td>P.G. Wodehouse</td>\n",
       "      <td>3.78</td>\n",
       "      <td>1426423705</td>\n",
       "      <td>9781426423703</td>\n",
       "      <td>en-US</td>\n",
       "      <td>232</td>\n",
       "      <td>10</td>\n",
       "      <td>0</td>\n",
       "      <td>5/29/2008</td>\n",
       "      <td>BiblioLife</td>\n",
       "    </tr>\n",
       "    <tr>\n",
       "      <th>4995</th>\n",
       "      <td>18053</td>\n",
       "      <td>Meet Mr. Mulliner</td>\n",
       "      <td>P.G. Wodehouse</td>\n",
       "      <td>4.06</td>\n",
       "      <td>1585672750</td>\n",
       "      <td>9781585672752</td>\n",
       "      <td>eng</td>\n",
       "      <td>203</td>\n",
       "      <td>1224</td>\n",
       "      <td>89</td>\n",
       "      <td>5/13/2002</td>\n",
       "      <td>Harry N. Abrams</td>\n",
       "    </tr>\n",
       "    <tr>\n",
       "      <th>4996</th>\n",
       "      <td>18055</td>\n",
       "      <td>Eggs  Beans  and Crumpets</td>\n",
       "      <td>P.G. Wodehouse</td>\n",
       "      <td>4.11</td>\n",
       "      <td>1841591068</td>\n",
       "      <td>9781841591063</td>\n",
       "      <td>eng</td>\n",
       "      <td>224</td>\n",
       "      <td>898</td>\n",
       "      <td>60</td>\n",
       "      <td>10/27/2000</td>\n",
       "      <td>Overlook Press</td>\n",
       "    </tr>\n",
       "    <tr>\n",
       "      <th>4997</th>\n",
       "      <td>18057</td>\n",
       "      <td>A Damsel in Distress</td>\n",
       "      <td>P.G. Wodehouse</td>\n",
       "      <td>4.08</td>\n",
       "      <td>1406953210</td>\n",
       "      <td>9781406953213</td>\n",
       "      <td>eng</td>\n",
       "      <td>216</td>\n",
       "      <td>3526</td>\n",
       "      <td>355</td>\n",
       "      <td>11/3/2006</td>\n",
       "      <td>rbooks</td>\n",
       "    </tr>\n",
       "    <tr>\n",
       "      <th>4998</th>\n",
       "      <td>18061</td>\n",
       "      <td>Uncle Fred in the Springtime (Blandings Castle...</td>\n",
       "      <td>P.G. Wodehouse</td>\n",
       "      <td>4.24</td>\n",
       "      <td>1841591300</td>\n",
       "      <td>9781841591308</td>\n",
       "      <td>eng</td>\n",
       "      <td>288</td>\n",
       "      <td>1703</td>\n",
       "      <td>108</td>\n",
       "      <td>4/15/2004</td>\n",
       "      <td>Everyman</td>\n",
       "    </tr>\n",
       "    <tr>\n",
       "      <th>5000</th>\n",
       "      <td>18064</td>\n",
       "      <td>The World of Mr. Mulliner</td>\n",
       "      <td>P.G. Wodehouse</td>\n",
       "      <td>4.32</td>\n",
       "      <td>0140281703</td>\n",
       "      <td>9780140281705</td>\n",
       "      <td>eng</td>\n",
       "      <td>624</td>\n",
       "      <td>345</td>\n",
       "      <td>30</td>\n",
       "      <td>7/29/1999</td>\n",
       "      <td>Penguin Books Ltd</td>\n",
       "    </tr>\n",
       "    <tr>\n",
       "      <th>5001</th>\n",
       "      <td>18067</td>\n",
       "      <td>Cocktail Time</td>\n",
       "      <td>P.G. Wodehouse</td>\n",
       "      <td>4.13</td>\n",
       "      <td>1585675741</td>\n",
       "      <td>9781585675746</td>\n",
       "      <td>eng</td>\n",
       "      <td>304</td>\n",
       "      <td>648</td>\n",
       "      <td>51</td>\n",
       "      <td>10/21/2004</td>\n",
       "      <td>Harry N. Abrams</td>\n",
       "    </tr>\n",
       "    <tr>\n",
       "      <th>5003</th>\n",
       "      <td>18073</td>\n",
       "      <td>Jeeves in the Offing (Jeeves  #12)</td>\n",
       "      <td>P.G. Wodehouse</td>\n",
       "      <td>4.17</td>\n",
       "      <td>1841591165</td>\n",
       "      <td>9781841591162</td>\n",
       "      <td>eng</td>\n",
       "      <td>208</td>\n",
       "      <td>28</td>\n",
       "      <td>4</td>\n",
       "      <td>9/12/2002</td>\n",
       "      <td>Everyman</td>\n",
       "    </tr>\n",
       "    <tr>\n",
       "      <th>5004</th>\n",
       "      <td>18074</td>\n",
       "      <td>Jeeves and The Feudal Spirit (Jeeves  #11)</td>\n",
       "      <td>P.G. Wodehouse</td>\n",
       "      <td>4.32</td>\n",
       "      <td>1841591017</td>\n",
       "      <td>9781841591018</td>\n",
       "      <td>eng</td>\n",
       "      <td>240</td>\n",
       "      <td>25</td>\n",
       "      <td>1</td>\n",
       "      <td>9/20/2001</td>\n",
       "      <td>Everyman's Library</td>\n",
       "    </tr>\n",
       "    <tr>\n",
       "      <th>5005</th>\n",
       "      <td>18077</td>\n",
       "      <td>Piccadilly Jim</td>\n",
       "      <td>P.G. Wodehouse</td>\n",
       "      <td>4.02</td>\n",
       "      <td>1585676160</td>\n",
       "      <td>9781585676163</td>\n",
       "      <td>eng</td>\n",
       "      <td>302</td>\n",
       "      <td>2673</td>\n",
       "      <td>184</td>\n",
       "      <td>10/21/2004</td>\n",
       "      <td>Harry N. Abrams</td>\n",
       "    </tr>\n",
       "    <tr>\n",
       "      <th>5006</th>\n",
       "      <td>18081</td>\n",
       "      <td>Joy in the Morning (Jeeves  #8)</td>\n",
       "      <td>P.G. Wodehouse</td>\n",
       "      <td>4.34</td>\n",
       "      <td>1841591157</td>\n",
       "      <td>9781841591155</td>\n",
       "      <td>eng</td>\n",
       "      <td>296</td>\n",
       "      <td>38</td>\n",
       "      <td>0</td>\n",
       "      <td>3/14/2002</td>\n",
       "      <td>Everyman</td>\n",
       "    </tr>\n",
       "    <tr>\n",
       "      <th>5007</th>\n",
       "      <td>18089</td>\n",
       "      <td>The Mating Season (Jeeves  #9)</td>\n",
       "      <td>P.G. Wodehouse</td>\n",
       "      <td>4.26</td>\n",
       "      <td>1841591076</td>\n",
       "      <td>9781841591070</td>\n",
       "      <td>eng</td>\n",
       "      <td>272</td>\n",
       "      <td>59</td>\n",
       "      <td>2</td>\n",
       "      <td>9/20/2001</td>\n",
       "      <td>Everyman</td>\n",
       "    </tr>\n",
       "    <tr>\n",
       "      <th>5008</th>\n",
       "      <td>18098</td>\n",
       "      <td>Indiscretions of Archie</td>\n",
       "      <td>P.G. Wodehouse</td>\n",
       "      <td>3.87</td>\n",
       "      <td>0742632598</td>\n",
       "      <td>9780742632592</td>\n",
       "      <td>eng</td>\n",
       "      <td>215</td>\n",
       "      <td>693</td>\n",
       "      <td>78</td>\n",
       "      <td>5/1/2000</td>\n",
       "      <td>Classic Books</td>\n",
       "    </tr>\n",
       "  </tbody>\n",
       "</table>\n",
       "</div>"
      ],
      "text/plain": [
       "      bookID                                              title  \\\n",
       "3439   12550              Stiff Upper Lip  Jeeves (Jeeves  #13)   \n",
       "4548   16374                         The Most of P.G. Wodehouse   \n",
       "4549   16376                   Full Moon (Blandings Castle  #7)   \n",
       "4550   16377            How Right You Are  Jeeves (Jeeves  #12)   \n",
       "4551   16379              Life With Jeeves (Jeeves  #6  2  & 4)   \n",
       "4552   16384                                       Spring Fever   \n",
       "4553   16387                      Carry On  Jeeves (Jeeves  #3)   \n",
       "4554   16388  Lord Emsworth and Others (Blandings Castle  #5.5)   \n",
       "4555   16390                     The Mating Season (Jeeves  #9)   \n",
       "4556   16392                     Thank You  Jeeves (Jeeves  #5)   \n",
       "4557   16393                                          Big Money   \n",
       "4558   16394                               Much Obliged  Jeeves   \n",
       "4559   16396                 The Inimitable Jeeves (Jeeves  #2)   \n",
       "4561   16400                                  Money in the Bank   \n",
       "4562   16401                            The Luck of the Bodkins   \n",
       "4979   18016                 Mulliner Nights (Mr. Mulliner  #3)   \n",
       "4980   18017                                  Life at Blandings   \n",
       "4981   18018                                  Jill the Reckless   \n",
       "4985   18025             Something Fresh (Blandings Castle  #1)   \n",
       "4986   18027                           The Clicking of Cuthbert   \n",
       "4987   18029                      Ring for Jeeves (Jeeves  #10)   \n",
       "4988   18031                                            Ukridge   \n",
       "4989   18032        Jeeves and the Tie That Binds (Jeeves  #14)   \n",
       "4990   18035                      Right Ho  Jeeves (Jeeves  #6)   \n",
       "4991   18039            Blandings Castle (Blandings Castle  #3)   \n",
       "4992   18041                              Mr. Mulliner Speaking   \n",
       "4993   18042                                       Laughing Gas   \n",
       "4994   18047                            The Adventures of Sally   \n",
       "4995   18053                                  Meet Mr. Mulliner   \n",
       "4996   18055                          Eggs  Beans  and Crumpets   \n",
       "4997   18057                               A Damsel in Distress   \n",
       "4998   18061  Uncle Fred in the Springtime (Blandings Castle...   \n",
       "5000   18064                          The World of Mr. Mulliner   \n",
       "5001   18067                                      Cocktail Time   \n",
       "5003   18073                 Jeeves in the Offing (Jeeves  #12)   \n",
       "5004   18074         Jeeves and The Feudal Spirit (Jeeves  #11)   \n",
       "5005   18077                                     Piccadilly Jim   \n",
       "5006   18081                    Joy in the Morning (Jeeves  #8)   \n",
       "5007   18089                     The Mating Season (Jeeves  #9)   \n",
       "5008   18098                            Indiscretions of Archie   \n",
       "\n",
       "             authors  average_rating        isbn         isbn13 language_code  \\\n",
       "3439  P.G. Wodehouse            4.29  184159105X  9781841591056           eng   \n",
       "4548  P.G. Wodehouse            4.48  0743203585  9780743203586           eng   \n",
       "4549  P.G. Wodehouse            4.17  1585678368  9781585678365           eng   \n",
       "4550  P.G. Wodehouse            4.17  0743203593  9780743203593           eng   \n",
       "4551  P.G. Wodehouse            4.39  0140059024  9780140059021           eng   \n",
       "4552  P.G. Wodehouse            4.05  158567575X  9781585675753           eng   \n",
       "4553  P.G. Wodehouse            4.27  1585673927  9781585673926           eng   \n",
       "4554  P.G. Wodehouse            4.16  1585672777  9781585672776           eng   \n",
       "4555  P.G. Wodehouse            4.26  1585672319  9781585672318           eng   \n",
       "4556  P.G. Wodehouse            4.24  1585674346  9781585674343           eng   \n",
       "4557  P.G. Wodehouse            3.93  014000937X  9780140009378           eng   \n",
       "4558  P.G. Wodehouse            4.23  1585675261  9781585675265           eng   \n",
       "4559  P.G. Wodehouse            4.24  0140284125  9780140284126           eng   \n",
       "4561  P.G. Wodehouse            4.13  1585676578  9781585676576           eng   \n",
       "4562  P.G. Wodehouse            4.08  1585673366  9781585673360           eng   \n",
       "4979  P.G. Wodehouse            4.11  1400079616  9781400079612           eng   \n",
       "4980  P.G. Wodehouse            4.35  0140059032  9780140059038         en-US   \n",
       "4981  P.G. Wodehouse            4.02  1585676608  9781585676606           eng   \n",
       "4985  P.G. Wodehouse            4.16  1585676586  9781585676583           eng   \n",
       "4986  P.G. Wodehouse            3.93  1406929980  9781406929980           eng   \n",
       "4987  P.G. Wodehouse            4.01  1585675245  9781585675241           eng   \n",
       "4988  P.G. Wodehouse            3.89  1585674796  9781585674794           eng   \n",
       "4989  P.G. Wodehouse            4.23  0743203623  9780743203623           eng   \n",
       "4990  P.G. Wodehouse            4.32  140690483X  9781406904833           eng   \n",
       "4991  P.G. Wodehouse            4.18  1585673382  9781585673384           eng   \n",
       "4992  P.G. Wodehouse            4.01  1841591386  9781841591384         en-US   \n",
       "4993  P.G. Wodehouse            3.89  1585672327  9781585672325           eng   \n",
       "4994  P.G. Wodehouse            3.78  1426423705  9781426423703         en-US   \n",
       "4995  P.G. Wodehouse            4.06  1585672750  9781585672752           eng   \n",
       "4996  P.G. Wodehouse            4.11  1841591068  9781841591063           eng   \n",
       "4997  P.G. Wodehouse            4.08  1406953210  9781406953213           eng   \n",
       "4998  P.G. Wodehouse            4.24  1841591300  9781841591308           eng   \n",
       "5000  P.G. Wodehouse            4.32  0140281703  9780140281705           eng   \n",
       "5001  P.G. Wodehouse            4.13  1585675741  9781585675746           eng   \n",
       "5003  P.G. Wodehouse            4.17  1841591165  9781841591162           eng   \n",
       "5004  P.G. Wodehouse            4.32  1841591017  9781841591018           eng   \n",
       "5005  P.G. Wodehouse            4.02  1585676160  9781585676163           eng   \n",
       "5006  P.G. Wodehouse            4.34  1841591157  9781841591155           eng   \n",
       "5007  P.G. Wodehouse            4.26  1841591076  9781841591070           eng   \n",
       "5008  P.G. Wodehouse            3.87  0742632598  9780742632592           eng   \n",
       "\n",
       "        num_pages  ratings_count  text_reviews_count publication_date  \\\n",
       "3439          211           6970                 310       12/17/2002   \n",
       "4548          701           1872                 106        11/1/2000   \n",
       "4549          272           1860                 131       11/23/2006   \n",
       "4550          206           2769                 156        11/1/2000   \n",
       "4551          557           3169                 137        9/29/1983   \n",
       "4552          276            483                  31       10/21/2004   \n",
       "4553          273          15598                 771        3/31/2003   \n",
       "4554          268           1099                  77        5/13/2002   \n",
       "4555          272           4616                 287         1/1/2002   \n",
       "4556          263           5700                 308        9/15/2003   \n",
       "4557          288           1117                  78         9/3/1991   \n",
       "4558          208            701                  64        4/12/2004   \n",
       "4559          240           7442                 320         6/1/2000   \n",
       "4561          290            321                  27         4/7/2005   \n",
       "4562          358           1290                  88       10/23/2002   \n",
       "4979          240           1174                  75        4/12/2005   \n",
       "4980          608           2651                  47         1/5/1988   \n",
       "4981          290            666                  82         4/7/2005   \n",
       "4985          284           5311                 391         4/7/2005   \n",
       "4986          162              6                   1        11/3/2006   \n",
       "4987          208           2785                 183        4/12/2004   \n",
       "4988          272           1019                  83        9/15/2003   \n",
       "4989          205           2781                 130        11/1/2000   \n",
       "4990          224           8193                 443        11/3/2006   \n",
       "4991          301           1370                  70       10/23/2002   \n",
       "4992          232           1497                  48         3/3/2005   \n",
       "4993          286           1723                 129         1/1/2002   \n",
       "4994          232             10                   0        5/29/2008   \n",
       "4995          203           1224                  89        5/13/2002   \n",
       "4996          224            898                  60       10/27/2000   \n",
       "4997          216           3526                 355        11/3/2006   \n",
       "4998          288           1703                 108        4/15/2004   \n",
       "5000          624            345                  30        7/29/1999   \n",
       "5001          304            648                  51       10/21/2004   \n",
       "5003          208             28                   4        9/12/2002   \n",
       "5004          240             25                   1        9/20/2001   \n",
       "5005          302           2673                 184       10/21/2004   \n",
       "5006          296             38                   0        3/14/2002   \n",
       "5007          272             59                   2        9/20/2001   \n",
       "5008          215            693                  78         5/1/2000   \n",
       "\n",
       "                              publisher  \n",
       "3439                 Everyman's Library  \n",
       "4548                   Simon & Schuster  \n",
       "4549                    Harry N. Abrams  \n",
       "4550                         Touchstone  \n",
       "4551                      Penguin Books  \n",
       "4552                    Harry N. Abrams  \n",
       "4553                 The Overlook Press  \n",
       "4554                 The Overlook Press  \n",
       "4555                    Harry N. Abrams  \n",
       "4556                    Harry N. Abrams  \n",
       "4557                      Penguin Books  \n",
       "4558                    Harry N. Abrams  \n",
       "4559                      Penguin Books  \n",
       "4561                    Harry N. Abrams  \n",
       "4562                    Harry N. Abrams  \n",
       "4979                            Vintage  \n",
       "4980                      Penguin Books  \n",
       "4981                    Harry N. Abrams  \n",
       "4985                    Harry N. Abrams  \n",
       "4986                         Hard Press  \n",
       "4987                    Harry N. Abrams  \n",
       "4988                    Harry N. Abrams  \n",
       "4989                         Touchstone  \n",
       "4990                         Hard Press  \n",
       "4991                    Harry N. Abrams  \n",
       "4992  Everyman Library / Overlook Press  \n",
       "4993                    Harry N. Abrams  \n",
       "4994                         BiblioLife  \n",
       "4995                    Harry N. Abrams  \n",
       "4996                     Overlook Press  \n",
       "4997                             rbooks  \n",
       "4998                           Everyman  \n",
       "5000                  Penguin Books Ltd  \n",
       "5001                    Harry N. Abrams  \n",
       "5003                           Everyman  \n",
       "5004                 Everyman's Library  \n",
       "5005                    Harry N. Abrams  \n",
       "5006                           Everyman  \n",
       "5007                           Everyman  \n",
       "5008                      Classic Books  "
      ]
     },
     "execution_count": 12,
     "metadata": {},
     "output_type": "execute_result"
    }
   ],
   "source": [
    "english_books[english_books.authors=='P.G. Wodehouse']"
   ]
  },
  {
   "cell_type": "markdown",
   "metadata": {},
   "source": [
    "# Get book info"
   ]
  },
  {
   "cell_type": "markdown",
   "metadata": {},
   "source": [
    "Query google books api by isbn\n",
    "\n",
    "https://www.googleapis.com/books/v1/volumes?q=isbn:9781841591056"
   ]
  },
  {
   "cell_type": "code",
   "execution_count": 13,
   "metadata": {
    "ExecuteTime": {
     "end_time": "2020-05-16T20:31:06.894057Z",
     "start_time": "2020-05-16T20:31:06.886648Z"
    }
   },
   "outputs": [],
   "source": [
    "def get_book_info(isbn):\n",
    "    req_url = f'https://www.googleapis.com/books/v1/volumes?q=isbn:{isbn}'\n",
    "    response = requests.get(req_url)\n",
    "    if response.status_code==200:\n",
    "        return json.loads(response.text)\n",
    "    else:\n",
    "        print(f'ERROR OCCURED.\\n ISBN: {isbn}')\n",
    "        return response"
   ]
  },
  {
   "cell_type": "code",
   "execution_count": 14,
   "metadata": {
    "ExecuteTime": {
     "end_time": "2020-05-16T20:31:07.669880Z",
     "start_time": "2020-05-16T20:31:07.112177Z"
    }
   },
   "outputs": [],
   "source": [
    "ISBN = 9781841591056\n",
    "assert(get_book_info(ISBN)['totalItems']==1)"
   ]
  },
  {
   "cell_type": "code",
   "execution_count": 15,
   "metadata": {
    "ExecuteTime": {
     "end_time": "2020-05-16T20:31:08.126199Z",
     "start_time": "2020-05-16T20:31:07.673408Z"
    }
   },
   "outputs": [
    {
     "data": {
      "text/plain": [
       "'Gussie Fink-Nottle simply must marry Madeline Bassett or Bertrand Wooster will be obliged to proffer the ring in his stead. In a daring attempt at securing the engagement, Jeeves and Bertie visit a rural leper colony.'"
      ]
     },
     "execution_count": 15,
     "metadata": {},
     "output_type": "execute_result"
    }
   ],
   "source": [
    "get_book_info(ISBN)['items'][0]['volumeInfo']['description']"
   ]
  },
  {
   "cell_type": "markdown",
   "metadata": {},
   "source": [
    "r.json() exists..."
   ]
  },
  {
   "cell_type": "code",
   "execution_count": 16,
   "metadata": {
    "ExecuteTime": {
     "end_time": "2020-05-16T20:31:08.140901Z",
     "start_time": "2020-05-16T20:31:08.130090Z"
    }
   },
   "outputs": [],
   "source": [
    "def return_description(isbn):\n",
    "    jsn_res = get_book_info(isbn)\n",
    "    try:\n",
    "        assert(jsn_res.get('totalItems')==1)\n",
    "    except:\n",
    "        return None\n",
    "    d = jsn_res['items'][0]['volumeInfo'].get('description')\n",
    "    if not d:\n",
    "        print(f'No description found.\\nISBN: {isbn}')\n",
    "    return d\n"
   ]
  },
  {
   "cell_type": "code",
   "execution_count": 23,
   "metadata": {
    "ExecuteTime": {
     "end_time": "2020-05-17T17:33:59.176804Z",
     "start_time": "2020-05-17T16:00:55.378534Z"
    }
   },
   "outputs": [
    {
     "name": "stdout",
     "output_type": "stream",
     "text": [
      "No description found.\n",
      "ISBN: 1568491980\n",
      "No description found.\n",
      "ISBN: 0806501901\n",
      "No description found.\n",
      "ISBN: 0451147952\n",
      "No description found.\n",
      "ISBN: 0156030209\n",
      "No description found.\n",
      "ISBN: 086516584X\n",
      "No description found.\n",
      "ISBN: 0024021504\n",
      "No description found.\n",
      "ISBN: 044657967X\n",
      "No description found.\n",
      "ISBN: 0140268685\n",
      "No description found.\n",
      "ISBN: 1593083246\n",
      "No description found.\n",
      "ISBN: 1421501562\n",
      "No description found.\n",
      "ISBN: 0938497197\n",
      "No description found.\n",
      "ISBN: 0618574999\n",
      "No description found.\n",
      "ISBN: 0252063023\n",
      "No description found.\n",
      "ISBN: 0674996232\n",
      "No description found.\n",
      "ISBN: 0812970756\n",
      "No description found.\n",
      "ISBN: 000100039X\n",
      "No description found.\n",
      "ISBN: 382960226X\n",
      "No description found.\n",
      "ISBN: 0671475029\n",
      "No description found.\n",
      "ISBN: 0907129072\n",
      "No description found.\n",
      "ISBN: 0750012633\n",
      "No description found.\n",
      "ISBN: 0373706405\n",
      "No description found.\n",
      "ISBN: 0141184892\n",
      "No description found.\n",
      "ISBN: 0859653234\n",
      "No description found.\n",
      "ISBN: 0670916668\n",
      "No description found.\n",
      "ISBN: 1842055062\n",
      "No description found.\n",
      "ISBN: 0671774670\n",
      "No description found.\n",
      "ISBN: 0140446427\n",
      "No description found.\n",
      "ISBN: 0060970618\n",
      "No description found.\n",
      "ISBN: 0226071367\n",
      "No description found.\n",
      "ISBN: 097441218X\n",
      "No description found.\n",
      "ISBN: 1580087949\n",
      "No description found.\n",
      "ISBN: 1887726098\n",
      "No description found.\n",
      "ISBN: 0373194862\n",
      "No description found.\n",
      "ISBN: 8445074873\n",
      "No description found.\n",
      "ISBN: 0786864028\n",
      "No description found.\n",
      "ISBN: 0226348180\n",
      "No description found.\n",
      "ISBN: 0060926961\n",
      "No description found.\n",
      "ISBN: 0962088110\n",
      "No description found.\n",
      "ISBN: 015173156X\n",
      "No description found.\n",
      "ISBN: 0552998087\n",
      "No description found.\n",
      "ISBN: 0156260263\n",
      "No description found.\n",
      "ISBN: 0800783360\n",
      "No description found.\n",
      "ISBN: 0751533939\n",
      "No description found.\n",
      "ISBN: 0898401879\n",
      "No description found.\n",
      "ISBN: 1587671409\n",
      "No description found.\n",
      "ISBN: 9998691567\n",
      "No description found.\n",
      "ISBN: 0941419746\n",
      "No description found.\n",
      "ISBN: 0140153179\n",
      "No description found.\n",
      "ISBN: 0394700139\n",
      "No description found.\n",
      "ISBN: 159116222X\n",
      "No description found.\n",
      "ISBN: 0517480107\n",
      "No description found.\n",
      "ISBN: 0816611351\n",
      "No description found.\n",
      "ISBN: 0440151880\n",
      "No description found.\n",
      "ISBN: 0140042326\n",
      "No description found.\n",
      "ISBN: 0439463696\n",
      "No description found.\n",
      "ISBN: 1405835648\n",
      "No description found.\n",
      "ISBN: 3125738083\n",
      "No description found.\n",
      "ISBN: 0345321383\n",
      "No description found.\n",
      "ISBN: 0893562505\n",
      "No description found.\n",
      "ISBN: 0618574972\n",
      "No description found.\n",
      "ISBN: 1932416064\n",
      "No description found.\n",
      "ISBN: 0940450674\n",
      "No description found.\n",
      "ISBN: 039470245X\n",
      "No description found.\n",
      "ISBN: 0785123113\n",
      "No description found.\n",
      "ISBN: 0573605734\n",
      "No description found.\n",
      "ISBN: 0440391547\n",
      "No description found.\n",
      "ISBN: 0684829452\n",
      "No description found.\n",
      "ISBN: 1585678368\n",
      "No description found.\n",
      "ISBN: 034537147X\n",
      "No description found.\n",
      "ISBN: 0385023510\n",
      "No description found.\n",
      "ISBN: 078511775X\n",
      "No description found.\n",
      "ISBN: 190398517X\n",
      "No description found.\n",
      "ISBN: 1406503436\n",
      "No description found.\n",
      "ISBN: 0800809637\n",
      "No description found.\n",
      "ISBN: 0465099009\n",
      "No description found.\n",
      "ISBN: 0738209279\n",
      "No description found.\n",
      "ISBN: 0975262203\n",
      "No description found.\n",
      "ISBN: 0816634394\n",
      "No description found.\n",
      "ISBN: 0160729947\n",
      "No description found.\n",
      "ISBN: 0814749763\n",
      "No description found.\n",
      "ISBN: 1585676608\n",
      "No description found.\n",
      "ISBN: 3895086908\n",
      "No description found.\n",
      "ISBN: 0804728844\n",
      "No description found.\n",
      "ISBN: 1877275514\n",
      "No description found.\n",
      "ISBN: 0517349175\n",
      "No description found.\n",
      "ISBN: 0515040967\n",
      "No description found.\n",
      "ISBN: 0345456327\n",
      "No description found.\n",
      "ISBN: 188635085X\n",
      "No description found.\n",
      "ISBN: 1591940486\n",
      "No description found.\n",
      "ISBN: 1587671093\n",
      "No description found.\n",
      "ISBN: 0848805011\n",
      "No description found.\n",
      "ISBN: 0940450364\n",
      "No description found.\n",
      "ISBN: 0783554567\n",
      "No description found.\n",
      "ISBN: 0809493780\n",
      "No description found.\n",
      "ISBN: 0563388544\n",
      "No description found.\n",
      "ISBN: 1555603130\n",
      "No description found.\n",
      "ISBN: 193238622X\n",
      "No description found.\n",
      "ISBN: 087747785X\n",
      "No description found.\n",
      "ISBN: 1596060298\n",
      "ERROR OCCURED.\n",
      " ISBN: 1593691033\n",
      "No description found.\n",
      "ISBN: 0783554524\n",
      "No description found.\n",
      "ISBN: 0380405199\n",
      "No description found.\n",
      "ISBN: 073571102X\n",
      "No description found.\n",
      "ISBN: 0373192827\n",
      "No description found.\n",
      "ISBN: 0345253590\n",
      "No description found.\n",
      "ISBN: 0806509023\n",
      "No description found.\n",
      "ISBN: 0373713444\n",
      "No description found.\n",
      "ISBN: 156931019X\n",
      "No description found.\n",
      "ISBN: 0886771382\n",
      "No description found.\n",
      "ISBN: 0886774675\n",
      "No description found.\n",
      "ISBN: 1559360801\n",
      "No description found.\n",
      "ISBN: 0805413995\n",
      "No description found.\n",
      "ISBN: 0836279298\n",
      "No description found.\n",
      "ISBN: 0898708257\n",
      "No description found.\n",
      "ISBN: 1569319626\n",
      "No description found.\n",
      "ISBN: 1591163196\n",
      "No description found.\n",
      "ISBN: 1591164222\n",
      "No description found.\n",
      "ISBN: 0246136677\n",
      "No description found.\n",
      "ISBN: 0026995018\n",
      "No description found.\n",
      "ISBN: 1564741575\n",
      "No description found.\n",
      "ISBN: 0803494661\n",
      "No description found.\n",
      "ISBN: 1887953795\n",
      "No description found.\n",
      "ISBN: 0714530484\n",
      "No description found.\n",
      "ISBN: 0930462092\n",
      "No description found.\n",
      "ISBN: 1594720355\n",
      "No description found.\n",
      "ISBN: 0131541951\n",
      "No description found.\n",
      "ISBN: 1591162068\n",
      "No description found.\n",
      "ISBN: 1591162076\n",
      "No description found.\n",
      "ISBN: 1591160685\n",
      "No description found.\n",
      "ISBN: 1591161452\n",
      "No description found.\n",
      "ISBN: 0915144220\n",
      "No description found.\n",
      "ISBN: 067080682X\n",
      "No description found.\n",
      "ISBN: 0814204570\n",
      "No description found.\n",
      "ISBN: 1567922961\n",
      "No description found.\n",
      "ISBN: 068802372X\n",
      "No description found.\n",
      "ISBN: 0500810192\n",
      "No description found.\n",
      "ISBN: 0756401135\n",
      "No description found.\n",
      "ISBN: 0525945563\n",
      "No description found.\n",
      "ISBN: 0470055545\n",
      "No description found.\n",
      "ISBN: 007325035X\n",
      "No description found.\n",
      "ISBN: 0486201120\n",
      "No description found.\n",
      "ISBN: 1852423285\n",
      "No description found.\n",
      "ISBN: 0394429826\n",
      "No description found.\n",
      "ISBN: 0971357234\n",
      "No description found.\n",
      "ISBN: 1560761547\n",
      "No description found.\n",
      "ISBN: 0706425618\n",
      "No description found.\n",
      "ISBN: 1582406197\n",
      "No description found.\n",
      "ISBN: 0515136174\n",
      "No description found.\n",
      "ISBN: 0140449140\n",
      "No description found.\n",
      "ISBN: 0393092100\n",
      "No description found.\n",
      "ISBN: 0415356296\n",
      "No description found.\n",
      "ISBN: 1569319502\n",
      "No description found.\n",
      "ISBN: 0670000965\n",
      "No description found.\n",
      "ISBN: 067077605X\n",
      "No description found.\n",
      "ISBN: 1929068034\n",
      "No description found.\n",
      "ISBN: 1559362103\n",
      "No description found.\n",
      "ISBN: 1416520384\n",
      "No description found.\n",
      "ISBN: 0006751156\n",
      "No description found.\n",
      "ISBN: 0722539010\n",
      "No description found.\n",
      "ISBN: 1930699891\n",
      "No description found.\n",
      "ISBN: 0521220238\n",
      "No description found.\n",
      "ISBN: 1902602684\n",
      "No description found.\n",
      "ISBN: 071484330X\n",
      "No description found.\n",
      "ISBN: 044019069X\n",
      "No description found.\n",
      "ISBN: 0345495810\n",
      "No description found.\n",
      "ISBN: 0373078544\n",
      "No description found.\n",
      "ISBN: 1567313981\n",
      "No description found.\n",
      "ISBN: 0701137681\n",
      "No description found.\n",
      "ISBN: 0373764197\n",
      "No description found.\n",
      "ISBN: 1588467988\n",
      "No description found.\n",
      "ISBN: 0870541854\n",
      "No description found.\n",
      "ISBN: 1568820402\n",
      "No description found.\n",
      "ISBN: 0763625299\n",
      "No description found.\n",
      "ISBN: 0064405958\n",
      "No description found.\n",
      "ISBN: 1553100662\n",
      "No description found.\n",
      "ISBN: 0449239691\n",
      "No description found.\n",
      "ISBN: 0394707761\n",
      "No description found.\n",
      "ISBN: 0385191669\n",
      "No description found.\n",
      "ISBN: 0553507354\n",
      "No description found.\n",
      "ISBN: 0880071311\n",
      "No description found.\n",
      "ISBN: 0373246838\n",
      "No description found.\n",
      "ISBN: 000690601X\n",
      "No description found.\n",
      "ISBN: 0425144305\n",
      "No description found.\n",
      "ISBN: 0226731510\n",
      "No description found.\n",
      "ISBN: 0099690608\n",
      "No description found.\n",
      "ISBN: 0345479076\n",
      "No description found.\n",
      "ISBN: 0879975318\n",
      "No description found.\n",
      "ISBN: 0446658081\n",
      "No description found.\n",
      "ISBN: 0517552949\n",
      "No description found.\n",
      "ISBN: 0306812304\n",
      "No description found.\n",
      "ISBN: 0714529036\n",
      "No description found.\n",
      "ISBN: 037307316X\n",
      "No description found.\n",
      "ISBN: 0718128826\n",
      "No description found.\n",
      "ISBN: 0743497287\n",
      "No description found.\n",
      "ISBN: 0739844326\n",
      "No description found.\n",
      "ISBN: 0380699176\n",
      "No description found.\n",
      "ISBN: 0673393550\n",
      "No description found.\n",
      "ISBN: 0552146552\n",
      "No description found.\n",
      "ISBN: 0307001466\n",
      "No description found.\n",
      "ISBN: 0962247723\n",
      "No description found.\n",
      "ISBN: 0553400037\n",
      "No description found.\n",
      "ISBN: 1932416382\n",
      "No description found.\n",
      "ISBN: 0373288565\n",
      "No description found.\n",
      "ISBN: 1569800367\n",
      "No description found.\n",
      "ISBN: 0373513283\n",
      "No description found.\n",
      "ISBN: 0345376048\n",
      "No description found.\n",
      "ISBN: 189825334X\n",
      "No description found.\n",
      "ISBN: 189188526X\n",
      "No description found.\n",
      "ISBN: 0395051568\n",
      "No description found.\n",
      "ISBN: 1844740447\n",
      "No description found.\n",
      "ISBN: 1594860165\n"
     ]
    },
    {
     "name": "stderr",
     "output_type": "stream",
     "text": [
      "/Users/sadhbh/.pyenv/versions/3.7.7/lib/python3.7/site-packages/ipykernel/__main__.py:1: SettingWithCopyWarning: \n",
      "A value is trying to be set on a copy of a slice from a DataFrame.\n",
      "Try using .loc[row_indexer,col_indexer] = value instead\n",
      "\n",
      "See the caveats in the documentation: https://pandas.pydata.org/pandas-docs/stable/user_guide/indexing.html#returning-a-view-versus-a-copy\n",
      "  if __name__ == '__main__':\n"
     ]
    }
   ],
   "source": [
    "english_books['description'] = english_books.isbn.apply(return_description)"
   ]
  },
  {
   "cell_type": "code",
   "execution_count": 24,
   "metadata": {
    "ExecuteTime": {
     "end_time": "2020-05-17T17:33:59.516732Z",
     "start_time": "2020-05-17T17:33:59.201923Z"
    }
   },
   "outputs": [],
   "source": [
    "english_books.to_csv('english_books.csv', index=False)"
   ]
  },
  {
   "cell_type": "code",
   "execution_count": 25,
   "metadata": {
    "ExecuteTime": {
     "end_time": "2020-05-17T17:33:59.553689Z",
     "start_time": "2020-05-17T17:33:59.526210Z"
    }
   },
   "outputs": [
    {
     "data": {
      "text/plain": [
       "0.26195445920303606"
      ]
     },
     "execution_count": 25,
     "metadata": {},
     "output_type": "execute_result"
    }
   ],
   "source": [
    "english_books.description.isnull().mean()"
   ]
  },
  {
   "cell_type": "code",
   "execution_count": 26,
   "metadata": {
    "ExecuteTime": {
     "end_time": "2020-05-17T17:33:59.594150Z",
     "start_time": "2020-05-17T17:33:59.558189Z"
    }
   },
   "outputs": [
    {
     "data": {
      "text/plain": [
       "(2761, 13)"
      ]
     },
     "execution_count": 26,
     "metadata": {},
     "output_type": "execute_result"
    }
   ],
   "source": [
    "english_books[english_books.description.isnull()].shape"
   ]
  },
  {
   "cell_type": "code",
   "execution_count": 27,
   "metadata": {
    "ExecuteTime": {
     "end_time": "2020-05-17T17:33:59.614107Z",
     "start_time": "2020-05-17T17:33:59.599289Z"
    }
   },
   "outputs": [
    {
     "data": {
      "text/plain": [
       "(7779, 13)"
      ]
     },
     "execution_count": 27,
     "metadata": {},
     "output_type": "execute_result"
    }
   ],
   "source": [
    "english_books[~english_books.description.isnull()].shape"
   ]
  },
  {
   "cell_type": "code",
   "execution_count": 28,
   "metadata": {
    "ExecuteTime": {
     "end_time": "2020-05-17T17:33:59.716251Z",
     "start_time": "2020-05-17T17:33:59.617686Z"
    }
   },
   "outputs": [
    {
     "data": {
      "text/plain": [
       "array([['Sister Outsider: Essays and Speeches', 'Audre Lorde',\n",
       "        \"The fourteen essays and speeches collected in this work, several of them published for the first time, span almost a decade of this Black lesbian feminnist's work. Lorde is unflinching in her observations and is lucid and clarifying in her coverage of a range of essential topics.\"],\n",
       "       ['The Shadow Rising (The Wheel of Time  #4)', 'Robert Jordan',\n",
       "        \"Perrin Aybara must return to Emond's Field to face the occupying Whitecloaks, while Rand enters the Aiel Waste and the forbidden city of Rhuidean\"],\n",
       "       ['Summerland', 'Michael Chabon',\n",
       "        \"A BookSense 76 pick, and best-seller from coast to coast-Summerland is part fantasy, part adventure, part baseball, but most of all it's the story of a young boy, Ethan Feld-a lousy, but lovable little-leaguer who finds himself playing in the most important baseball game ever. Not only the game, but the fate of the world rests on his shoulders.\"],\n",
       "       ['City of the Beasts (Eagle and Jaguar  #1)',\n",
       "        'Isabel Allende/Margaret Sayers Peden',\n",
       "        'Fifteen-year-old Alexander Cold is about to join his fearless grandmother on the trip of a lifetime. An International Geographic expedition is headed to the dangerous, remote wilds of South America, on a mission to document the legendary Yeti of the Amazon known as the Beast. But there are many secrets hidden in the unexplored wilderness, as Alex and his new friend Nadia soon discover. Drawing on the strength of their spirit guides, both young people are led on a thrilling and unforgettable journey to the ultimate discovery. . . .'],\n",
       "       ['The Doom That Came to Sarnath and Other Stories',\n",
       "        'H.P. Lovecraft/Lin Carter',\n",
       "        'In a city of gems and riches - beyond the dreams of mortal men - a race of conquerors celebrates its triumph and reaps the horror of its glory.'],\n",
       "       ['Valley Of Silence (Circle Trilogy  #3)', 'Nora Roberts',\n",
       "        'In this thrilling conclusion to The Circle trilogy, one vampire dares to stand against Lilith and her minions, using his love for the newly crowned queen of Geall to finally complete the circle of six and change the course of history. Original.'],\n",
       "       ['Howl and Other Poems', 'Allen Ginsberg/William Carlos Williams',\n",
       "        'The epigraph for Howl is from Walt Whitman: \"Unscrew the locks from the doors!/Unscrew the doors themselves from their jambs!\" Announcing his intentions with this ringing motto, Allen Ginsberg published a volume of poetry which broke so many social...'],\n",
       "       ['A Circle of Quiet (Crosswicks Journals #1)',\n",
       "        \"Madeleine L'Engle\",\n",
       "        \"This journal shares fruitful reflections on life and career prompted by the author's visit to her personal place of retreat near her country home.\"],\n",
       "       ['Spellbound (Once Upon  #1)', 'Nora Roberts',\n",
       "        \"This is a novella that previously appeared in Nora Roberts' anthology, A Little Magic.\"],\n",
       "       ['Self-Help', 'Lorrie Moore',\n",
       "        \"This absorbing, ironic, bitter-sweet collection of nine stories marked Lorrie Moore's talented debut. Sharp, cruel and funny, the stories are presented as a highly idiosyncratic guide to female existence: 'How to be an Other Woman', 'How to Talk to Your Mother (Notes)', 'How to Become a Writer', 'The Kid's Guide to Divorce'. 'A remarkable debut by an original and gifted writer. Lorrie Moore's wry, poetic stories of love and loss make me want to laugh and cry at the same time.' Alison Lurie\"]],\n",
       "      dtype=object)"
      ]
     },
     "execution_count": 28,
     "metadata": {},
     "output_type": "execute_result"
    }
   ],
   "source": [
    "english_books[~english_books.description.isnull()].sample(10)[['title', 'authors', 'description']].values"
   ]
  },
  {
   "cell_type": "markdown",
   "metadata": {},
   "source": [
    "create single string"
   ]
  },
  {
   "cell_type": "code",
   "execution_count": 29,
   "metadata": {
    "ExecuteTime": {
     "end_time": "2020-05-17T17:33:59.767576Z",
     "start_time": "2020-05-17T17:33:59.721665Z"
    }
   },
   "outputs": [],
   "source": [
    "english_books.iloc[0:10][['title', 'authors', 'description']].str?"
   ]
  },
  {
   "cell_type": "code",
   "execution_count": null,
   "metadata": {},
   "outputs": [],
   "source": [
    "english_books.iloc[0:10][['title', 'authors', 'description']].str"
   ]
  },
  {
   "cell_type": "code",
   "execution_count": 30,
   "metadata": {
    "ExecuteTime": {
     "end_time": "2020-05-17T17:34:00.404404Z",
     "start_time": "2020-05-17T17:33:59.770009Z"
    }
   },
   "outputs": [],
   "source": [
    "finetune_df = english_books[~english_books.description.isnull()][['title', 'authors', 'description']].agg('. '.join, axis=1)"
   ]
  },
  {
   "cell_type": "code",
   "execution_count": 31,
   "metadata": {
    "ExecuteTime": {
     "end_time": "2020-05-17T17:34:00.514603Z",
     "start_time": "2020-05-17T17:34:00.408198Z"
    }
   },
   "outputs": [],
   "source": [
    "finetune_df.to_csv('book_dscrptions.csv', index=False)"
   ]
  },
  {
   "cell_type": "code",
   "execution_count": 32,
   "metadata": {
    "ExecuteTime": {
     "end_time": "2020-05-17T17:37:41.154244Z",
     "start_time": "2020-05-17T17:37:40.906516Z"
    }
   },
   "outputs": [
    {
     "name": "stdout",
     "output_type": "stream",
     "text": [
      "total 21648\r\n",
      "-rw-r--r--  1 sadhbh  staff    77804 17 May 18:35 get_book_summaries.ipynb\r\n",
      "-rw-r--r--@ 1 sadhbh  staff  3654254 17 May 18:34 book_dscrptions.csv\r\n",
      "-rw-r--r--  1 sadhbh  staff  4628871 17 May 18:33 english_books.csv\r\n",
      "drwxr-xr-x  9 sadhbh  staff      288 17 May 18:06 \u001b[34mheroku_deploy\u001b[m\u001b[m\r\n",
      "drwxr-xr-x  3 sadhbh  staff       96 16 May 20:21 \u001b[34msamples\u001b[m\u001b[m\r\n",
      "drwxr-xr-x  3 sadhbh  staff       96 13 May 19:09 \u001b[34mcheckpoint\u001b[m\u001b[m\r\n",
      "drwxr-xr-x  3 sadhbh  staff       96 13 May 19:08 \u001b[34mmodels\u001b[m\u001b[m\r\n",
      "-rw-r--r--@ 1 sadhbh  staff  1559650  9 Mar 09:18 books.csv\r\n"
     ]
    }
   ],
   "source": [
    "!ls -lt"
   ]
  },
  {
   "cell_type": "code",
   "execution_count": 5,
   "metadata": {
    "ExecuteTime": {
     "end_time": "2020-05-16T15:22:30.299530Z",
     "start_time": "2020-05-16T15:22:24.235582Z"
    }
   },
   "outputs": [
    {
     "name": "stdout",
     "output_type": "stream",
     "text": [
      "WARNING:tensorflow:\n",
      "The TensorFlow contrib module will not be included in TensorFlow 2.0.\n",
      "For more information, please see:\n",
      "  * https://github.com/tensorflow/community/blob/master/rfcs/20180907-contrib-sunset.md\n",
      "  * https://github.com/tensorflow/addons\n",
      "  * https://github.com/tensorflow/io (for I/O related ops)\n",
      "If you depend on functionality not listed there, please file an issue.\n",
      "\n"
     ]
    }
   ],
   "source": [
    "# import gpt_2_simple as gpt2"
   ]
  },
  {
   "cell_type": "code",
   "execution_count": 104,
   "metadata": {
    "ExecuteTime": {
     "end_time": "2020-05-13T18:14:17.333901Z",
     "start_time": "2020-05-13T18:09:08.180892Z"
    }
   },
   "outputs": [
    {
     "name": "stderr",
     "output_type": "stream",
     "text": [
      "Fetching checkpoint: 1.05Mit [00:00, 510Mit/s]                                                      \n",
      "Fetching encoder.json: 1.05Mit [00:00, 2.56Mit/s]                                                   \n",
      "Fetching hparams.json: 1.05Mit [00:00, 251Mit/s]                                                    \n",
      "Fetching model.ckpt.data-00000-of-00001: 498Mit [05:05, 1.63Mit/s]                                  \n",
      "Fetching model.ckpt.index: 1.05Mit [00:00, 281Mit/s]                                                \n",
      "Fetching model.ckpt.meta: 1.05Mit [00:00, 1.47Mit/s]                                                \n",
      "Fetching vocab.bpe: 1.05Mit [00:00, 2.85Mit/s]                                                      \n"
     ]
    }
   ],
   "source": [
    "# gpt2.download_gpt2(model_name=\"124M\")"
   ]
  },
  {
   "cell_type": "code",
   "execution_count": null,
   "metadata": {
    "ExecuteTime": {
     "start_time": "2020-05-16T15:22:26.356Z"
    }
   },
   "outputs": [
    {
     "name": "stdout",
     "output_type": "stream",
     "text": [
      "WARNING:tensorflow:From /Users/sadhbh/.pyenv/versions/3.7.7/lib/python3.7/site-packages/gpt_2_simple/src/sample.py:17: where (from tensorflow.python.ops.array_ops) is deprecated and will be removed in a future version.\n",
      "Instructions for updating:\n",
      "Use tf.where in 2.0, which has the same broadcast rule as np.where\n",
      "Loading checkpoint models/124M/model.ckpt\n",
      "INFO:tensorflow:Restoring parameters from models/124M/model.ckpt\n"
     ]
    },
    {
     "name": "stderr",
     "output_type": "stream",
     "text": [
      "100%|██████████| 1/1 [00:00<00:00, 10.72it/s]"
     ]
    },
    {
     "name": "stdout",
     "output_type": "stream",
     "text": [
      "Loading dataset...\n"
     ]
    },
    {
     "name": "stderr",
     "output_type": "stream",
     "text": [
      "\n"
     ]
    },
    {
     "name": "stdout",
     "output_type": "stream",
     "text": [
      "dataset has 131131 tokens\n",
      "Training...\n",
      "[10 | 1485.66] loss=0.10 avg=0.10\n",
      "[20 | 2884.06] loss=0.10 avg=0.10\n",
      "[30 | 4398.40] loss=0.07 avg=0.09\n",
      "[40 | 6313.08] loss=0.07 avg=0.08\n",
      "[50 | 7603.62] loss=0.07 avg=0.08\n",
      "[60 | 8930.60] loss=0.09 avg=0.08\n",
      "[70 | 10264.90] loss=0.06 avg=0.08\n",
      "[80 | 11537.45] loss=0.06 avg=0.08\n",
      "[90 | 12795.05] loss=0.07 avg=0.08\n",
      "[100 | 14137.42] loss=0.06 avg=0.08\n",
      "======== SAMPLE 1 ========\n",
      "103|>8113<|endoftext|>\n",
      "<|startoftext|>8114<|endoftext|>\n",
      "<|startoftext|>8115<|endoftext|>\n",
      "<|startoftext|>8116<|endoftext|>\n",
      "<|startoftext|>8117<|endoftext|>\n",
      "<|startoftext|>8118<|endoftext|>\n",
      "<|startoftext|>8120<|endoftext|>\n",
      "<|startoftext|>8121<|endoftext|>\n",
      "<|startoftext|>8122<|endoftext|>\n",
      "<|startoftext|>8124<|endoftext|>\n",
      "<|startoftext|>8125<|endoftext|>\n",
      "<|startoftext|>8126<|endoftext|>\n",
      "<|startoftext|>8127<|endoftext|>\n",
      "<|startoftext|>8128<|endoftext|>\n",
      "<|startoftext|>8129<|endoftext|>\n",
      "<|startoftext|>8230<|endoftext|>\n",
      "<|startoftext|>8131<|endoftext|>\n",
      "<|startoftext|>8132<|endoftext|>\n",
      "<|startoftext|>8133<|endoftext|>\n",
      "<|startoftext|>8138<|endoftext|>\n",
      "<|startoftext|>8139<|endoftext|>\n",
      "<|startoftext|>8141<|endoftext|>\n",
      "<|startoftext|>8143<|endoftext|>\n",
      "<|startoftext|>8145<|endoftext|>\n",
      "<|startoftext|>8147<|endoftext|>\n",
      "<|startoftext|>8148<|endoftext|>\n",
      "<|startoftext|>8149<|endoftext|>\n",
      "<|startoftext|>8150<|endoftext|>\n",
      "<|startoftext|>8250<|endoftext|>\n",
      "<|startoftext|>8260<|endoftext|>\n",
      "<|startoftext|>8151<|endoftext|>\n",
      "<|startoftext|>8153<|endoftext|>\n",
      "<|startoftext|>8155<|endoftext|>\n",
      "<|startoftext|>8156<|endoftext|>\n",
      "<|startoftext|>8159<|endoftext|>\n",
      "<|startoftext|>8161<|endoftext|>\n",
      "<|startoftext|>8163<|endoftext|>\n",
      "<|startoftext|>8165<|endoftext|>\n",
      "<|startoftext|>8167<|endoftext|>\n",
      "<|startoftext|>8169<|endoftext|>\n",
      "<|startoftext|>8171<|endoftext|>\n",
      "<|startoftext|>8172<|endoftext|>\n",
      "<|startoftext|>8173<|endoftext|>\n",
      "<|startoftext|>8174<|endoftext|>\n",
      "<|startoftext|>8175<|endoftext|>\n",
      "<|startoftext|>8176<|endoftext|>\n",
      "<|startoftext|>8177<|endoftext|>\n",
      "<|startoftext|>8178<|endoftext|>\n",
      "<|startoftext|>8179<|endoftext|>\n",
      "<|startoftext|>8180<|endoftext|>\n",
      "<|startoftext|>8181<|endoftext|>\n",
      "<|startoftext|>8182<|endoftext|>\n",
      "<|startoftext|>8183<|endoftext|>\n",
      "<|startoftext|>8184<|endoftext|>\n",
      "<|startoftext|>8185<|endoftext|>\n",
      "<|startoftext|>8186<|endoftext|>\n",
      "<|startoftext|>8187<|endoftext|>\n",
      "<|startoftext|>8189<|endoftext|>\n",
      "<|startoftext|>8190<|endoftext|>\n",
      "<|startoftext|>8191<|endoftext|>\n",
      "<|startoftext|>8\n",
      "\n",
      "[110 | 15601.52] loss=0.06 avg=0.07\n",
      "[120 | 16960.81] loss=0.07 avg=0.07\n"
     ]
    }
   ],
   "source": [
    "# sess = gpt2.start_tf_sess()\n",
    "# gpt2.finetune(sess,\n",
    "#               dataset='book_dscrptions.csv',\n",
    "#               model_name='124M',\n",
    "#               steps=500,\n",
    "#               run_name='books1',\n",
    "#               print_every=10,\n",
    "#               sample_every=100\n",
    "#               )"
   ]
  },
  {
   "cell_type": "code",
   "execution_count": null,
   "metadata": {},
   "outputs": [],
   "source": []
  }
 ],
 "metadata": {
  "kernelspec": {
   "display_name": "Python3.7.7",
   "language": "python",
   "name": "python3.7.7"
  },
  "language_info": {
   "codemirror_mode": {
    "name": "ipython",
    "version": 3
   },
   "file_extension": ".py",
   "mimetype": "text/x-python",
   "name": "python",
   "nbconvert_exporter": "python",
   "pygments_lexer": "ipython3",
   "version": "3.7.7"
  },
  "toc": {
   "base_numbering": 1,
   "nav_menu": {},
   "number_sections": true,
   "sideBar": true,
   "skip_h1_title": false,
   "title_cell": "Table of Contents",
   "title_sidebar": "Contents",
   "toc_cell": false,
   "toc_position": {},
   "toc_section_display": true,
   "toc_window_display": false
  }
 },
 "nbformat": 4,
 "nbformat_minor": 2
}
